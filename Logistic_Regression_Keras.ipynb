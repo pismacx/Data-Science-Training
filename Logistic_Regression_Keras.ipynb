{
  "cells": [
    {
      "cell_type": "markdown",
      "metadata": {
        "id": "view-in-github",
        "colab_type": "text"
      },
      "source": [
        "<a href=\"https://colab.research.google.com/github/pismacx/Data-Science-Training/blob/main/Logistic_Regression_Keras.ipynb\" target=\"_parent\"><img src=\"https://colab.research.google.com/assets/colab-badge.svg\" alt=\"Open In Colab\"/></a>"
      ]
    },
    {
      "cell_type": "markdown",
      "metadata": {
        "id": "h-lrQuoFmMMV"
      },
      "source": [
        "# Census Income Example\n",
        "This is a Keras example of classification problem. To simplify the data preparation part I used the Census problem from the Sci-Kit Learn class.\n",
        "\n",
        "The dataset comes from http://archive.ics.uci.edu/. \n",
        "\n",
        "Data extraction was done by Barry Becker from the 1994 Census database. A set of reasonably clean records was extracted using the following conditions: ((AAGE>16) && (AGI>100) && (AFNLWGT>1)&& (HRSWK>0)). The data was also preprocessed for the purpose of this example.\n",
        "\n",
        "Prediction task is to determine whether a person makes over 50K a year.\n",
        "\n",
        "\n",
        "### List of attributes:\n",
        "\n",
        "##### Features\n",
        "- age: continuous. \n",
        "- workclass: Private, Self-emp-not-inc, Self-emp-inc, Federal-gov, Local-gov, State-gov, Without-pay, Never-worked. \n",
        "- education: Bachelors, Some-college, 11th, HS-grad, Prof-school, Assoc-acdm, Assoc-voc, 9th, 7th-8th, 12th, Masters, 1st-4th, - 10th, Doctorate, 5th-6th, Preschool. \n",
        "- education-num: continuous. \n",
        "- marital-status: Married-civ-spouse, Divorced, Never-married, Separated, Widowed, Married-spouse-absent, Married-AF-spouse. \n",
        "- occupation: Tech-support, Craft-repair, Other-service, Sales, Exec-managerial, Prof-specialty, Handlers-cleaners, Machine-op-inspct, Adm-clerical, Farming-fishing, Transport-moving, Priv-house-serv, Protective-serv, Armed-Forces. \n",
        "- relationship: Wife, Own-child, Husband, Not-in-family, Other-relative, Unmarried. \n",
        "- race: White, Asian-Pac-Islander, Amer-Indian-Eskimo, Other, Black. \n",
        "- sex: Female, Male. \n",
        "- hours-per-week: continuous. \n",
        "- native-country: United-States, Cambodia, England, Puerto-Rico, Canada, Germany, Outlying-US(Guam-USVI-etc), India, Japan, Greece, South, China, Cuba, Iran, Honduras, Philippines, Italy, Poland, Jamaica, Vietnam, Mexico, Portugal, Ireland, France, Dominican-Republic, Laos, Ecuador, Taiwan, Haiti, Columbia, Hungary, Guatemala, Nicaragua, Scotland, Thailand, Yugoslavia, El-Salvador, Trinadad&Tobago, Peru, Hong, Holand-Netherlands.\n",
        "\n",
        "\n",
        "\n",
        "##### Labels\n",
        "- income - >50K, <=50K. "
      ]
    },
    {
      "cell_type": "markdown",
      "metadata": {
        "id": "6Y02gXsjmMMX"
      },
      "source": [
        "# Install tensorflow\n",
        "If necessary uncomment one of the lines below"
      ]
    },
    {
      "cell_type": "code",
      "execution_count": null,
      "metadata": {
        "id": "ih_kS0MlmMMX"
      },
      "outputs": [],
      "source": [
        "# Tensorflow installation - uncomment if necessary\n",
        "#!pip install tensorflow"
      ]
    },
    {
      "cell_type": "markdown",
      "metadata": {
        "id": "OfCb6KEEmMMY"
      },
      "source": [
        "# Imports"
      ]
    },
    {
      "cell_type": "code",
      "execution_count": null,
      "metadata": {
        "id": "XlxfbOlhmMMZ"
      },
      "outputs": [],
      "source": [
        "import pandas as pd\n",
        "import numpy as np\n",
        "import tensorflow as tf\n",
        "\n",
        "import matplotlib.pyplot as plt\n",
        "%matplotlib inline"
      ]
    },
    {
      "cell_type": "markdown",
      "metadata": {
        "id": "K2TJ4Qb7mMMa"
      },
      "source": [
        "### Load dataset"
      ]
    },
    {
      "cell_type": "code",
      "execution_count": null,
      "metadata": {
        "colab": {
          "base_uri": "https://localhost:8080/",
          "height": 297
        },
        "id": "gvU1TEUWmMMa",
        "outputId": "0a6a0d68-5564-452c-9600-3d6f81393a2d"
      },
      "outputs": [
        {
          "output_type": "stream",
          "name": "stdout",
          "text": [
            "(32561, 12)\n",
            "Index(['age', 'workclass', 'education', 'education-num', 'marital-status',\n",
            "       'occupation', 'relationship', 'race', 'sex', 'hours-per-week',\n",
            "       'native-country', 'income'],\n",
            "      dtype='object')\n"
          ]
        },
        {
          "output_type": "execute_result",
          "data": {
            "text/plain": [
              "   age         workclass  education  education-num      marital-status  \\\n",
              "0   39         State-gov  Bachelors             13       Never-married   \n",
              "1   50  Self-emp-not-inc  Bachelors             13  Married-civ-spouse   \n",
              "2   38           Private    HS-grad              9            Divorced   \n",
              "3   53           Private       11th              7  Married-civ-spouse   \n",
              "4   28           Private  Bachelors             13  Married-civ-spouse   \n",
              "\n",
              "          occupation   relationship   race     sex  hours-per-week  \\\n",
              "0       Adm-clerical  Not-in-family  White    Male              40   \n",
              "1    Exec-managerial        Husband  White    Male              13   \n",
              "2  Handlers-cleaners  Not-in-family  White    Male              40   \n",
              "3  Handlers-cleaners        Husband  Black    Male              40   \n",
              "4     Prof-specialty           Wife  Black  Female              40   \n",
              "\n",
              "  native-country income  \n",
              "0  United-States  <=50K  \n",
              "1  United-States  <=50K  \n",
              "2  United-States  <=50K  \n",
              "3  United-States  <=50K  \n",
              "4           Cuba  <=50K  "
            ],
            "text/html": [
              "\n",
              "  <div id=\"df-1e387f93-6168-4705-b614-89439789f949\">\n",
              "    <div class=\"colab-df-container\">\n",
              "      <div>\n",
              "<style scoped>\n",
              "    .dataframe tbody tr th:only-of-type {\n",
              "        vertical-align: middle;\n",
              "    }\n",
              "\n",
              "    .dataframe tbody tr th {\n",
              "        vertical-align: top;\n",
              "    }\n",
              "\n",
              "    .dataframe thead th {\n",
              "        text-align: right;\n",
              "    }\n",
              "</style>\n",
              "<table border=\"1\" class=\"dataframe\">\n",
              "  <thead>\n",
              "    <tr style=\"text-align: right;\">\n",
              "      <th></th>\n",
              "      <th>age</th>\n",
              "      <th>workclass</th>\n",
              "      <th>education</th>\n",
              "      <th>education-num</th>\n",
              "      <th>marital-status</th>\n",
              "      <th>occupation</th>\n",
              "      <th>relationship</th>\n",
              "      <th>race</th>\n",
              "      <th>sex</th>\n",
              "      <th>hours-per-week</th>\n",
              "      <th>native-country</th>\n",
              "      <th>income</th>\n",
              "    </tr>\n",
              "  </thead>\n",
              "  <tbody>\n",
              "    <tr>\n",
              "      <th>0</th>\n",
              "      <td>39</td>\n",
              "      <td>State-gov</td>\n",
              "      <td>Bachelors</td>\n",
              "      <td>13</td>\n",
              "      <td>Never-married</td>\n",
              "      <td>Adm-clerical</td>\n",
              "      <td>Not-in-family</td>\n",
              "      <td>White</td>\n",
              "      <td>Male</td>\n",
              "      <td>40</td>\n",
              "      <td>United-States</td>\n",
              "      <td>&lt;=50K</td>\n",
              "    </tr>\n",
              "    <tr>\n",
              "      <th>1</th>\n",
              "      <td>50</td>\n",
              "      <td>Self-emp-not-inc</td>\n",
              "      <td>Bachelors</td>\n",
              "      <td>13</td>\n",
              "      <td>Married-civ-spouse</td>\n",
              "      <td>Exec-managerial</td>\n",
              "      <td>Husband</td>\n",
              "      <td>White</td>\n",
              "      <td>Male</td>\n",
              "      <td>13</td>\n",
              "      <td>United-States</td>\n",
              "      <td>&lt;=50K</td>\n",
              "    </tr>\n",
              "    <tr>\n",
              "      <th>2</th>\n",
              "      <td>38</td>\n",
              "      <td>Private</td>\n",
              "      <td>HS-grad</td>\n",
              "      <td>9</td>\n",
              "      <td>Divorced</td>\n",
              "      <td>Handlers-cleaners</td>\n",
              "      <td>Not-in-family</td>\n",
              "      <td>White</td>\n",
              "      <td>Male</td>\n",
              "      <td>40</td>\n",
              "      <td>United-States</td>\n",
              "      <td>&lt;=50K</td>\n",
              "    </tr>\n",
              "    <tr>\n",
              "      <th>3</th>\n",
              "      <td>53</td>\n",
              "      <td>Private</td>\n",
              "      <td>11th</td>\n",
              "      <td>7</td>\n",
              "      <td>Married-civ-spouse</td>\n",
              "      <td>Handlers-cleaners</td>\n",
              "      <td>Husband</td>\n",
              "      <td>Black</td>\n",
              "      <td>Male</td>\n",
              "      <td>40</td>\n",
              "      <td>United-States</td>\n",
              "      <td>&lt;=50K</td>\n",
              "    </tr>\n",
              "    <tr>\n",
              "      <th>4</th>\n",
              "      <td>28</td>\n",
              "      <td>Private</td>\n",
              "      <td>Bachelors</td>\n",
              "      <td>13</td>\n",
              "      <td>Married-civ-spouse</td>\n",
              "      <td>Prof-specialty</td>\n",
              "      <td>Wife</td>\n",
              "      <td>Black</td>\n",
              "      <td>Female</td>\n",
              "      <td>40</td>\n",
              "      <td>Cuba</td>\n",
              "      <td>&lt;=50K</td>\n",
              "    </tr>\n",
              "  </tbody>\n",
              "</table>\n",
              "</div>\n",
              "      <button class=\"colab-df-convert\" onclick=\"convertToInteractive('df-1e387f93-6168-4705-b614-89439789f949')\"\n",
              "              title=\"Convert this dataframe to an interactive table.\"\n",
              "              style=\"display:none;\">\n",
              "        \n",
              "  <svg xmlns=\"http://www.w3.org/2000/svg\" height=\"24px\"viewBox=\"0 0 24 24\"\n",
              "       width=\"24px\">\n",
              "    <path d=\"M0 0h24v24H0V0z\" fill=\"none\"/>\n",
              "    <path d=\"M18.56 5.44l.94 2.06.94-2.06 2.06-.94-2.06-.94-.94-2.06-.94 2.06-2.06.94zm-11 1L8.5 8.5l.94-2.06 2.06-.94-2.06-.94L8.5 2.5l-.94 2.06-2.06.94zm10 10l.94 2.06.94-2.06 2.06-.94-2.06-.94-.94-2.06-.94 2.06-2.06.94z\"/><path d=\"M17.41 7.96l-1.37-1.37c-.4-.4-.92-.59-1.43-.59-.52 0-1.04.2-1.43.59L10.3 9.45l-7.72 7.72c-.78.78-.78 2.05 0 2.83L4 21.41c.39.39.9.59 1.41.59.51 0 1.02-.2 1.41-.59l7.78-7.78 2.81-2.81c.8-.78.8-2.07 0-2.86zM5.41 20L4 18.59l7.72-7.72 1.47 1.35L5.41 20z\"/>\n",
              "  </svg>\n",
              "      </button>\n",
              "      \n",
              "  <style>\n",
              "    .colab-df-container {\n",
              "      display:flex;\n",
              "      flex-wrap:wrap;\n",
              "      gap: 12px;\n",
              "    }\n",
              "\n",
              "    .colab-df-convert {\n",
              "      background-color: #E8F0FE;\n",
              "      border: none;\n",
              "      border-radius: 50%;\n",
              "      cursor: pointer;\n",
              "      display: none;\n",
              "      fill: #1967D2;\n",
              "      height: 32px;\n",
              "      padding: 0 0 0 0;\n",
              "      width: 32px;\n",
              "    }\n",
              "\n",
              "    .colab-df-convert:hover {\n",
              "      background-color: #E2EBFA;\n",
              "      box-shadow: 0px 1px 2px rgba(60, 64, 67, 0.3), 0px 1px 3px 1px rgba(60, 64, 67, 0.15);\n",
              "      fill: #174EA6;\n",
              "    }\n",
              "\n",
              "    [theme=dark] .colab-df-convert {\n",
              "      background-color: #3B4455;\n",
              "      fill: #D2E3FC;\n",
              "    }\n",
              "\n",
              "    [theme=dark] .colab-df-convert:hover {\n",
              "      background-color: #434B5C;\n",
              "      box-shadow: 0px 1px 3px 1px rgba(0, 0, 0, 0.15);\n",
              "      filter: drop-shadow(0px 1px 2px rgba(0, 0, 0, 0.3));\n",
              "      fill: #FFFFFF;\n",
              "    }\n",
              "  </style>\n",
              "\n",
              "      <script>\n",
              "        const buttonEl =\n",
              "          document.querySelector('#df-1e387f93-6168-4705-b614-89439789f949 button.colab-df-convert');\n",
              "        buttonEl.style.display =\n",
              "          google.colab.kernel.accessAllowed ? 'block' : 'none';\n",
              "\n",
              "        async function convertToInteractive(key) {\n",
              "          const element = document.querySelector('#df-1e387f93-6168-4705-b614-89439789f949');\n",
              "          const dataTable =\n",
              "            await google.colab.kernel.invokeFunction('convertToInteractive',\n",
              "                                                     [key], {});\n",
              "          if (!dataTable) return;\n",
              "\n",
              "          const docLinkHtml = 'Like what you see? Visit the ' +\n",
              "            '<a target=\"_blank\" href=https://colab.research.google.com/notebooks/data_table.ipynb>data table notebook</a>'\n",
              "            + ' to learn more about interactive tables.';\n",
              "          element.innerHTML = '';\n",
              "          dataTable['output_type'] = 'display_data';\n",
              "          await google.colab.output.renderOutput(dataTable, element);\n",
              "          const docLink = document.createElement('div');\n",
              "          docLink.innerHTML = docLinkHtml;\n",
              "          element.appendChild(docLink);\n",
              "        }\n",
              "      </script>\n",
              "    </div>\n",
              "  </div>\n",
              "  "
            ]
          },
          "metadata": {},
          "execution_count": 3
        }
      ],
      "source": [
        "df = pd.read_csv(\"https://github.com/PrzemekSekula/DeepLearningClasses1/raw/master/data/census.csv\")\n",
        "\n",
        "print (df.shape)\n",
        "print (df.columns)\n",
        "df.head()"
      ]
    },
    {
      "cell_type": "markdown",
      "metadata": {
        "id": "1CuT-On6mMMa"
      },
      "source": [
        "# Data preparation\n",
        "### Selecting columns\n",
        "Personaly I decided to delete the following columns:\n",
        "- education - we have education-num, this is enough\n",
        "- marital status - too many classes\n",
        "- relationship - I am not sure if it is useful, and there are many classes\n",
        "- race - I am not sure if it is useful\n",
        "- native-country - too many classes\n",
        "\n",
        "**I deleted many columns just to make the task easier to read. Students are encouraged to experiment with the columns and check if they can improve the results.**\n"
      ]
    },
    {
      "cell_type": "code",
      "execution_count": null,
      "metadata": {
        "colab": {
          "base_uri": "https://localhost:8080/",
          "height": 206
        },
        "id": "nQkxzORwmMMb",
        "outputId": "b40a3a06-15c5-4bfe-c1dd-4643300f15f2"
      },
      "outputs": [
        {
          "output_type": "execute_result",
          "data": {
            "text/plain": [
              "   age         workclass  education-num         occupation     sex  \\\n",
              "0   39         State-gov             13       Adm-clerical    Male   \n",
              "1   50  Self-emp-not-inc             13    Exec-managerial    Male   \n",
              "2   38           Private              9  Handlers-cleaners    Male   \n",
              "3   53           Private              7  Handlers-cleaners    Male   \n",
              "4   28           Private             13     Prof-specialty  Female   \n",
              "\n",
              "   hours-per-week income  \n",
              "0              40  <=50K  \n",
              "1              13  <=50K  \n",
              "2              40  <=50K  \n",
              "3              40  <=50K  \n",
              "4              40  <=50K  "
            ],
            "text/html": [
              "\n",
              "  <div id=\"df-e0bda31d-3f55-40f1-b468-7e34de9fab8b\">\n",
              "    <div class=\"colab-df-container\">\n",
              "      <div>\n",
              "<style scoped>\n",
              "    .dataframe tbody tr th:only-of-type {\n",
              "        vertical-align: middle;\n",
              "    }\n",
              "\n",
              "    .dataframe tbody tr th {\n",
              "        vertical-align: top;\n",
              "    }\n",
              "\n",
              "    .dataframe thead th {\n",
              "        text-align: right;\n",
              "    }\n",
              "</style>\n",
              "<table border=\"1\" class=\"dataframe\">\n",
              "  <thead>\n",
              "    <tr style=\"text-align: right;\">\n",
              "      <th></th>\n",
              "      <th>age</th>\n",
              "      <th>workclass</th>\n",
              "      <th>education-num</th>\n",
              "      <th>occupation</th>\n",
              "      <th>sex</th>\n",
              "      <th>hours-per-week</th>\n",
              "      <th>income</th>\n",
              "    </tr>\n",
              "  </thead>\n",
              "  <tbody>\n",
              "    <tr>\n",
              "      <th>0</th>\n",
              "      <td>39</td>\n",
              "      <td>State-gov</td>\n",
              "      <td>13</td>\n",
              "      <td>Adm-clerical</td>\n",
              "      <td>Male</td>\n",
              "      <td>40</td>\n",
              "      <td>&lt;=50K</td>\n",
              "    </tr>\n",
              "    <tr>\n",
              "      <th>1</th>\n",
              "      <td>50</td>\n",
              "      <td>Self-emp-not-inc</td>\n",
              "      <td>13</td>\n",
              "      <td>Exec-managerial</td>\n",
              "      <td>Male</td>\n",
              "      <td>13</td>\n",
              "      <td>&lt;=50K</td>\n",
              "    </tr>\n",
              "    <tr>\n",
              "      <th>2</th>\n",
              "      <td>38</td>\n",
              "      <td>Private</td>\n",
              "      <td>9</td>\n",
              "      <td>Handlers-cleaners</td>\n",
              "      <td>Male</td>\n",
              "      <td>40</td>\n",
              "      <td>&lt;=50K</td>\n",
              "    </tr>\n",
              "    <tr>\n",
              "      <th>3</th>\n",
              "      <td>53</td>\n",
              "      <td>Private</td>\n",
              "      <td>7</td>\n",
              "      <td>Handlers-cleaners</td>\n",
              "      <td>Male</td>\n",
              "      <td>40</td>\n",
              "      <td>&lt;=50K</td>\n",
              "    </tr>\n",
              "    <tr>\n",
              "      <th>4</th>\n",
              "      <td>28</td>\n",
              "      <td>Private</td>\n",
              "      <td>13</td>\n",
              "      <td>Prof-specialty</td>\n",
              "      <td>Female</td>\n",
              "      <td>40</td>\n",
              "      <td>&lt;=50K</td>\n",
              "    </tr>\n",
              "  </tbody>\n",
              "</table>\n",
              "</div>\n",
              "      <button class=\"colab-df-convert\" onclick=\"convertToInteractive('df-e0bda31d-3f55-40f1-b468-7e34de9fab8b')\"\n",
              "              title=\"Convert this dataframe to an interactive table.\"\n",
              "              style=\"display:none;\">\n",
              "        \n",
              "  <svg xmlns=\"http://www.w3.org/2000/svg\" height=\"24px\"viewBox=\"0 0 24 24\"\n",
              "       width=\"24px\">\n",
              "    <path d=\"M0 0h24v24H0V0z\" fill=\"none\"/>\n",
              "    <path d=\"M18.56 5.44l.94 2.06.94-2.06 2.06-.94-2.06-.94-.94-2.06-.94 2.06-2.06.94zm-11 1L8.5 8.5l.94-2.06 2.06-.94-2.06-.94L8.5 2.5l-.94 2.06-2.06.94zm10 10l.94 2.06.94-2.06 2.06-.94-2.06-.94-.94-2.06-.94 2.06-2.06.94z\"/><path d=\"M17.41 7.96l-1.37-1.37c-.4-.4-.92-.59-1.43-.59-.52 0-1.04.2-1.43.59L10.3 9.45l-7.72 7.72c-.78.78-.78 2.05 0 2.83L4 21.41c.39.39.9.59 1.41.59.51 0 1.02-.2 1.41-.59l7.78-7.78 2.81-2.81c.8-.78.8-2.07 0-2.86zM5.41 20L4 18.59l7.72-7.72 1.47 1.35L5.41 20z\"/>\n",
              "  </svg>\n",
              "      </button>\n",
              "      \n",
              "  <style>\n",
              "    .colab-df-container {\n",
              "      display:flex;\n",
              "      flex-wrap:wrap;\n",
              "      gap: 12px;\n",
              "    }\n",
              "\n",
              "    .colab-df-convert {\n",
              "      background-color: #E8F0FE;\n",
              "      border: none;\n",
              "      border-radius: 50%;\n",
              "      cursor: pointer;\n",
              "      display: none;\n",
              "      fill: #1967D2;\n",
              "      height: 32px;\n",
              "      padding: 0 0 0 0;\n",
              "      width: 32px;\n",
              "    }\n",
              "\n",
              "    .colab-df-convert:hover {\n",
              "      background-color: #E2EBFA;\n",
              "      box-shadow: 0px 1px 2px rgba(60, 64, 67, 0.3), 0px 1px 3px 1px rgba(60, 64, 67, 0.15);\n",
              "      fill: #174EA6;\n",
              "    }\n",
              "\n",
              "    [theme=dark] .colab-df-convert {\n",
              "      background-color: #3B4455;\n",
              "      fill: #D2E3FC;\n",
              "    }\n",
              "\n",
              "    [theme=dark] .colab-df-convert:hover {\n",
              "      background-color: #434B5C;\n",
              "      box-shadow: 0px 1px 3px 1px rgba(0, 0, 0, 0.15);\n",
              "      filter: drop-shadow(0px 1px 2px rgba(0, 0, 0, 0.3));\n",
              "      fill: #FFFFFF;\n",
              "    }\n",
              "  </style>\n",
              "\n",
              "      <script>\n",
              "        const buttonEl =\n",
              "          document.querySelector('#df-e0bda31d-3f55-40f1-b468-7e34de9fab8b button.colab-df-convert');\n",
              "        buttonEl.style.display =\n",
              "          google.colab.kernel.accessAllowed ? 'block' : 'none';\n",
              "\n",
              "        async function convertToInteractive(key) {\n",
              "          const element = document.querySelector('#df-e0bda31d-3f55-40f1-b468-7e34de9fab8b');\n",
              "          const dataTable =\n",
              "            await google.colab.kernel.invokeFunction('convertToInteractive',\n",
              "                                                     [key], {});\n",
              "          if (!dataTable) return;\n",
              "\n",
              "          const docLinkHtml = 'Like what you see? Visit the ' +\n",
              "            '<a target=\"_blank\" href=https://colab.research.google.com/notebooks/data_table.ipynb>data table notebook</a>'\n",
              "            + ' to learn more about interactive tables.';\n",
              "          element.innerHTML = '';\n",
              "          dataTable['output_type'] = 'display_data';\n",
              "          await google.colab.output.renderOutput(dataTable, element);\n",
              "          const docLink = document.createElement('div');\n",
              "          docLink.innerHTML = docLinkHtml;\n",
              "          element.appendChild(docLink);\n",
              "        }\n",
              "      </script>\n",
              "    </div>\n",
              "  </div>\n",
              "  "
            ]
          },
          "metadata": {},
          "execution_count": 4
        }
      ],
      "source": [
        "df = df[['age', 'workclass', 'education-num', 'occupation', \n",
        "         'sex', 'hours-per-week', 'income']]\n",
        "\n",
        "df.head()"
      ]
    },
    {
      "cell_type": "markdown",
      "metadata": {
        "id": "yRUkqneqmMMb"
      },
      "source": [
        "### Data preprocessing"
      ]
    },
    {
      "cell_type": "markdown",
      "metadata": {
        "id": "WyN17p4gmMMb"
      },
      "source": [
        "#### First step - change the labels into binary values."
      ]
    },
    {
      "cell_type": "code",
      "execution_count": null,
      "metadata": {
        "colab": {
          "base_uri": "https://localhost:8080/",
          "height": 261
        },
        "id": "jMPXenGqmMMb",
        "outputId": "80bf2d76-e61e-4788-ddcd-b57c8989879a"
      },
      "outputs": [
        {
          "output_type": "stream",
          "name": "stdout",
          "text": [
            "0    24720\n",
            "1     7841\n",
            "Name: income, dtype: int64\n"
          ]
        },
        {
          "output_type": "execute_result",
          "data": {
            "text/plain": [
              "   age         workclass  education-num         occupation     sex  \\\n",
              "0   39         State-gov             13       Adm-clerical    Male   \n",
              "1   50  Self-emp-not-inc             13    Exec-managerial    Male   \n",
              "2   38           Private              9  Handlers-cleaners    Male   \n",
              "3   53           Private              7  Handlers-cleaners    Male   \n",
              "4   28           Private             13     Prof-specialty  Female   \n",
              "\n",
              "   hours-per-week  income  \n",
              "0              40       0  \n",
              "1              13       0  \n",
              "2              40       0  \n",
              "3              40       0  \n",
              "4              40       0  "
            ],
            "text/html": [
              "\n",
              "  <div id=\"df-f4d5ceac-6522-40fc-9d8d-46c3875ce7a4\">\n",
              "    <div class=\"colab-df-container\">\n",
              "      <div>\n",
              "<style scoped>\n",
              "    .dataframe tbody tr th:only-of-type {\n",
              "        vertical-align: middle;\n",
              "    }\n",
              "\n",
              "    .dataframe tbody tr th {\n",
              "        vertical-align: top;\n",
              "    }\n",
              "\n",
              "    .dataframe thead th {\n",
              "        text-align: right;\n",
              "    }\n",
              "</style>\n",
              "<table border=\"1\" class=\"dataframe\">\n",
              "  <thead>\n",
              "    <tr style=\"text-align: right;\">\n",
              "      <th></th>\n",
              "      <th>age</th>\n",
              "      <th>workclass</th>\n",
              "      <th>education-num</th>\n",
              "      <th>occupation</th>\n",
              "      <th>sex</th>\n",
              "      <th>hours-per-week</th>\n",
              "      <th>income</th>\n",
              "    </tr>\n",
              "  </thead>\n",
              "  <tbody>\n",
              "    <tr>\n",
              "      <th>0</th>\n",
              "      <td>39</td>\n",
              "      <td>State-gov</td>\n",
              "      <td>13</td>\n",
              "      <td>Adm-clerical</td>\n",
              "      <td>Male</td>\n",
              "      <td>40</td>\n",
              "      <td>0</td>\n",
              "    </tr>\n",
              "    <tr>\n",
              "      <th>1</th>\n",
              "      <td>50</td>\n",
              "      <td>Self-emp-not-inc</td>\n",
              "      <td>13</td>\n",
              "      <td>Exec-managerial</td>\n",
              "      <td>Male</td>\n",
              "      <td>13</td>\n",
              "      <td>0</td>\n",
              "    </tr>\n",
              "    <tr>\n",
              "      <th>2</th>\n",
              "      <td>38</td>\n",
              "      <td>Private</td>\n",
              "      <td>9</td>\n",
              "      <td>Handlers-cleaners</td>\n",
              "      <td>Male</td>\n",
              "      <td>40</td>\n",
              "      <td>0</td>\n",
              "    </tr>\n",
              "    <tr>\n",
              "      <th>3</th>\n",
              "      <td>53</td>\n",
              "      <td>Private</td>\n",
              "      <td>7</td>\n",
              "      <td>Handlers-cleaners</td>\n",
              "      <td>Male</td>\n",
              "      <td>40</td>\n",
              "      <td>0</td>\n",
              "    </tr>\n",
              "    <tr>\n",
              "      <th>4</th>\n",
              "      <td>28</td>\n",
              "      <td>Private</td>\n",
              "      <td>13</td>\n",
              "      <td>Prof-specialty</td>\n",
              "      <td>Female</td>\n",
              "      <td>40</td>\n",
              "      <td>0</td>\n",
              "    </tr>\n",
              "  </tbody>\n",
              "</table>\n",
              "</div>\n",
              "      <button class=\"colab-df-convert\" onclick=\"convertToInteractive('df-f4d5ceac-6522-40fc-9d8d-46c3875ce7a4')\"\n",
              "              title=\"Convert this dataframe to an interactive table.\"\n",
              "              style=\"display:none;\">\n",
              "        \n",
              "  <svg xmlns=\"http://www.w3.org/2000/svg\" height=\"24px\"viewBox=\"0 0 24 24\"\n",
              "       width=\"24px\">\n",
              "    <path d=\"M0 0h24v24H0V0z\" fill=\"none\"/>\n",
              "    <path d=\"M18.56 5.44l.94 2.06.94-2.06 2.06-.94-2.06-.94-.94-2.06-.94 2.06-2.06.94zm-11 1L8.5 8.5l.94-2.06 2.06-.94-2.06-.94L8.5 2.5l-.94 2.06-2.06.94zm10 10l.94 2.06.94-2.06 2.06-.94-2.06-.94-.94-2.06-.94 2.06-2.06.94z\"/><path d=\"M17.41 7.96l-1.37-1.37c-.4-.4-.92-.59-1.43-.59-.52 0-1.04.2-1.43.59L10.3 9.45l-7.72 7.72c-.78.78-.78 2.05 0 2.83L4 21.41c.39.39.9.59 1.41.59.51 0 1.02-.2 1.41-.59l7.78-7.78 2.81-2.81c.8-.78.8-2.07 0-2.86zM5.41 20L4 18.59l7.72-7.72 1.47 1.35L5.41 20z\"/>\n",
              "  </svg>\n",
              "      </button>\n",
              "      \n",
              "  <style>\n",
              "    .colab-df-container {\n",
              "      display:flex;\n",
              "      flex-wrap:wrap;\n",
              "      gap: 12px;\n",
              "    }\n",
              "\n",
              "    .colab-df-convert {\n",
              "      background-color: #E8F0FE;\n",
              "      border: none;\n",
              "      border-radius: 50%;\n",
              "      cursor: pointer;\n",
              "      display: none;\n",
              "      fill: #1967D2;\n",
              "      height: 32px;\n",
              "      padding: 0 0 0 0;\n",
              "      width: 32px;\n",
              "    }\n",
              "\n",
              "    .colab-df-convert:hover {\n",
              "      background-color: #E2EBFA;\n",
              "      box-shadow: 0px 1px 2px rgba(60, 64, 67, 0.3), 0px 1px 3px 1px rgba(60, 64, 67, 0.15);\n",
              "      fill: #174EA6;\n",
              "    }\n",
              "\n",
              "    [theme=dark] .colab-df-convert {\n",
              "      background-color: #3B4455;\n",
              "      fill: #D2E3FC;\n",
              "    }\n",
              "\n",
              "    [theme=dark] .colab-df-convert:hover {\n",
              "      background-color: #434B5C;\n",
              "      box-shadow: 0px 1px 3px 1px rgba(0, 0, 0, 0.15);\n",
              "      filter: drop-shadow(0px 1px 2px rgba(0, 0, 0, 0.3));\n",
              "      fill: #FFFFFF;\n",
              "    }\n",
              "  </style>\n",
              "\n",
              "      <script>\n",
              "        const buttonEl =\n",
              "          document.querySelector('#df-f4d5ceac-6522-40fc-9d8d-46c3875ce7a4 button.colab-df-convert');\n",
              "        buttonEl.style.display =\n",
              "          google.colab.kernel.accessAllowed ? 'block' : 'none';\n",
              "\n",
              "        async function convertToInteractive(key) {\n",
              "          const element = document.querySelector('#df-f4d5ceac-6522-40fc-9d8d-46c3875ce7a4');\n",
              "          const dataTable =\n",
              "            await google.colab.kernel.invokeFunction('convertToInteractive',\n",
              "                                                     [key], {});\n",
              "          if (!dataTable) return;\n",
              "\n",
              "          const docLinkHtml = 'Like what you see? Visit the ' +\n",
              "            '<a target=\"_blank\" href=https://colab.research.google.com/notebooks/data_table.ipynb>data table notebook</a>'\n",
              "            + ' to learn more about interactive tables.';\n",
              "          element.innerHTML = '';\n",
              "          dataTable['output_type'] = 'display_data';\n",
              "          await google.colab.output.renderOutput(dataTable, element);\n",
              "          const docLink = document.createElement('div');\n",
              "          docLink.innerHTML = docLinkHtml;\n",
              "          element.appendChild(docLink);\n",
              "        }\n",
              "      </script>\n",
              "    </div>\n",
              "  </div>\n",
              "  "
            ]
          },
          "metadata": {},
          "execution_count": 5
        }
      ],
      "source": [
        "df.income = (df.income == '>50K').astype(int)\n",
        "print (df.income.value_counts())\n",
        "df.head()"
      ]
    },
    {
      "cell_type": "markdown",
      "metadata": {
        "id": "Yx1qU1EamMMc"
      },
      "source": [
        "#### Second step - change the `sex` column into binary values"
      ]
    },
    {
      "cell_type": "code",
      "execution_count": null,
      "metadata": {
        "colab": {
          "base_uri": "https://localhost:8080/",
          "height": 206
        },
        "id": "o1CCT8Q7mMMc",
        "outputId": "05536980-a873-48f2-e77e-eaa755930b78"
      },
      "outputs": [
        {
          "output_type": "execute_result",
          "data": {
            "text/plain": [
              "   age         workclass  education-num         occupation  hours-per-week  \\\n",
              "0   39         State-gov             13       Adm-clerical              40   \n",
              "1   50  Self-emp-not-inc             13    Exec-managerial              13   \n",
              "2   38           Private              9  Handlers-cleaners              40   \n",
              "3   53           Private              7  Handlers-cleaners              40   \n",
              "4   28           Private             13     Prof-specialty              40   \n",
              "\n",
              "   income  sex_Male  \n",
              "0       0         1  \n",
              "1       0         1  \n",
              "2       0         1  \n",
              "3       0         1  \n",
              "4       0         0  "
            ],
            "text/html": [
              "\n",
              "  <div id=\"df-bd254636-f4ba-4c3e-8cb5-a6d4b2f5542c\">\n",
              "    <div class=\"colab-df-container\">\n",
              "      <div>\n",
              "<style scoped>\n",
              "    .dataframe tbody tr th:only-of-type {\n",
              "        vertical-align: middle;\n",
              "    }\n",
              "\n",
              "    .dataframe tbody tr th {\n",
              "        vertical-align: top;\n",
              "    }\n",
              "\n",
              "    .dataframe thead th {\n",
              "        text-align: right;\n",
              "    }\n",
              "</style>\n",
              "<table border=\"1\" class=\"dataframe\">\n",
              "  <thead>\n",
              "    <tr style=\"text-align: right;\">\n",
              "      <th></th>\n",
              "      <th>age</th>\n",
              "      <th>workclass</th>\n",
              "      <th>education-num</th>\n",
              "      <th>occupation</th>\n",
              "      <th>hours-per-week</th>\n",
              "      <th>income</th>\n",
              "      <th>sex_Male</th>\n",
              "    </tr>\n",
              "  </thead>\n",
              "  <tbody>\n",
              "    <tr>\n",
              "      <th>0</th>\n",
              "      <td>39</td>\n",
              "      <td>State-gov</td>\n",
              "      <td>13</td>\n",
              "      <td>Adm-clerical</td>\n",
              "      <td>40</td>\n",
              "      <td>0</td>\n",
              "      <td>1</td>\n",
              "    </tr>\n",
              "    <tr>\n",
              "      <th>1</th>\n",
              "      <td>50</td>\n",
              "      <td>Self-emp-not-inc</td>\n",
              "      <td>13</td>\n",
              "      <td>Exec-managerial</td>\n",
              "      <td>13</td>\n",
              "      <td>0</td>\n",
              "      <td>1</td>\n",
              "    </tr>\n",
              "    <tr>\n",
              "      <th>2</th>\n",
              "      <td>38</td>\n",
              "      <td>Private</td>\n",
              "      <td>9</td>\n",
              "      <td>Handlers-cleaners</td>\n",
              "      <td>40</td>\n",
              "      <td>0</td>\n",
              "      <td>1</td>\n",
              "    </tr>\n",
              "    <tr>\n",
              "      <th>3</th>\n",
              "      <td>53</td>\n",
              "      <td>Private</td>\n",
              "      <td>7</td>\n",
              "      <td>Handlers-cleaners</td>\n",
              "      <td>40</td>\n",
              "      <td>0</td>\n",
              "      <td>1</td>\n",
              "    </tr>\n",
              "    <tr>\n",
              "      <th>4</th>\n",
              "      <td>28</td>\n",
              "      <td>Private</td>\n",
              "      <td>13</td>\n",
              "      <td>Prof-specialty</td>\n",
              "      <td>40</td>\n",
              "      <td>0</td>\n",
              "      <td>0</td>\n",
              "    </tr>\n",
              "  </tbody>\n",
              "</table>\n",
              "</div>\n",
              "      <button class=\"colab-df-convert\" onclick=\"convertToInteractive('df-bd254636-f4ba-4c3e-8cb5-a6d4b2f5542c')\"\n",
              "              title=\"Convert this dataframe to an interactive table.\"\n",
              "              style=\"display:none;\">\n",
              "        \n",
              "  <svg xmlns=\"http://www.w3.org/2000/svg\" height=\"24px\"viewBox=\"0 0 24 24\"\n",
              "       width=\"24px\">\n",
              "    <path d=\"M0 0h24v24H0V0z\" fill=\"none\"/>\n",
              "    <path d=\"M18.56 5.44l.94 2.06.94-2.06 2.06-.94-2.06-.94-.94-2.06-.94 2.06-2.06.94zm-11 1L8.5 8.5l.94-2.06 2.06-.94-2.06-.94L8.5 2.5l-.94 2.06-2.06.94zm10 10l.94 2.06.94-2.06 2.06-.94-2.06-.94-.94-2.06-.94 2.06-2.06.94z\"/><path d=\"M17.41 7.96l-1.37-1.37c-.4-.4-.92-.59-1.43-.59-.52 0-1.04.2-1.43.59L10.3 9.45l-7.72 7.72c-.78.78-.78 2.05 0 2.83L4 21.41c.39.39.9.59 1.41.59.51 0 1.02-.2 1.41-.59l7.78-7.78 2.81-2.81c.8-.78.8-2.07 0-2.86zM5.41 20L4 18.59l7.72-7.72 1.47 1.35L5.41 20z\"/>\n",
              "  </svg>\n",
              "      </button>\n",
              "      \n",
              "  <style>\n",
              "    .colab-df-container {\n",
              "      display:flex;\n",
              "      flex-wrap:wrap;\n",
              "      gap: 12px;\n",
              "    }\n",
              "\n",
              "    .colab-df-convert {\n",
              "      background-color: #E8F0FE;\n",
              "      border: none;\n",
              "      border-radius: 50%;\n",
              "      cursor: pointer;\n",
              "      display: none;\n",
              "      fill: #1967D2;\n",
              "      height: 32px;\n",
              "      padding: 0 0 0 0;\n",
              "      width: 32px;\n",
              "    }\n",
              "\n",
              "    .colab-df-convert:hover {\n",
              "      background-color: #E2EBFA;\n",
              "      box-shadow: 0px 1px 2px rgba(60, 64, 67, 0.3), 0px 1px 3px 1px rgba(60, 64, 67, 0.15);\n",
              "      fill: #174EA6;\n",
              "    }\n",
              "\n",
              "    [theme=dark] .colab-df-convert {\n",
              "      background-color: #3B4455;\n",
              "      fill: #D2E3FC;\n",
              "    }\n",
              "\n",
              "    [theme=dark] .colab-df-convert:hover {\n",
              "      background-color: #434B5C;\n",
              "      box-shadow: 0px 1px 3px 1px rgba(0, 0, 0, 0.15);\n",
              "      filter: drop-shadow(0px 1px 2px rgba(0, 0, 0, 0.3));\n",
              "      fill: #FFFFFF;\n",
              "    }\n",
              "  </style>\n",
              "\n",
              "      <script>\n",
              "        const buttonEl =\n",
              "          document.querySelector('#df-bd254636-f4ba-4c3e-8cb5-a6d4b2f5542c button.colab-df-convert');\n",
              "        buttonEl.style.display =\n",
              "          google.colab.kernel.accessAllowed ? 'block' : 'none';\n",
              "\n",
              "        async function convertToInteractive(key) {\n",
              "          const element = document.querySelector('#df-bd254636-f4ba-4c3e-8cb5-a6d4b2f5542c');\n",
              "          const dataTable =\n",
              "            await google.colab.kernel.invokeFunction('convertToInteractive',\n",
              "                                                     [key], {});\n",
              "          if (!dataTable) return;\n",
              "\n",
              "          const docLinkHtml = 'Like what you see? Visit the ' +\n",
              "            '<a target=\"_blank\" href=https://colab.research.google.com/notebooks/data_table.ipynb>data table notebook</a>'\n",
              "            + ' to learn more about interactive tables.';\n",
              "          element.innerHTML = '';\n",
              "          dataTable['output_type'] = 'display_data';\n",
              "          await google.colab.output.renderOutput(dataTable, element);\n",
              "          const docLink = document.createElement('div');\n",
              "          docLink.innerHTML = docLinkHtml;\n",
              "          element.appendChild(docLink);\n",
              "        }\n",
              "      </script>\n",
              "    </div>\n",
              "  </div>\n",
              "  "
            ]
          },
          "metadata": {},
          "execution_count": 6
        }
      ],
      "source": [
        "df = pd.get_dummies(df, columns=['sex'], drop_first=True)\n",
        "df.head()"
      ]
    },
    {
      "cell_type": "markdown",
      "metadata": {
        "id": "O9JndA-hmMMc"
      },
      "source": [
        "#### Third step - replace rare classes"
      ]
    },
    {
      "cell_type": "markdown",
      "metadata": {
        "id": "ZFX_D64nmMMc"
      },
      "source": [
        "Let's check if we have any rare classes"
      ]
    },
    {
      "cell_type": "code",
      "execution_count": null,
      "metadata": {
        "colab": {
          "base_uri": "https://localhost:8080/"
        },
        "id": "PmPpr2NKmMMd",
        "outputId": "4e6679ba-f18b-4669-b526-0301c7f0c3c2"
      },
      "outputs": [
        {
          "output_type": "execute_result",
          "data": {
            "text/plain": [
              "Private             22696\n",
              "Self-emp-not-inc     2541\n",
              "Local-gov            2093\n",
              "?                    1836\n",
              "State-gov            1298\n",
              "Self-emp-inc         1116\n",
              "Federal-gov           960\n",
              "Without-pay            14\n",
              "Never-worked            7\n",
              "Name: workclass, dtype: int64"
            ]
          },
          "metadata": {},
          "execution_count": 7
        }
      ],
      "source": [
        "df.workclass.value_counts()"
      ]
    },
    {
      "cell_type": "code",
      "execution_count": null,
      "metadata": {
        "colab": {
          "base_uri": "https://localhost:8080/"
        },
        "id": "cH3kl_QnmMMd",
        "outputId": "6d08f8b8-e9a0-43b4-e0c1-03ea0296cec4"
      },
      "outputs": [
        {
          "output_type": "execute_result",
          "data": {
            "text/plain": [
              "Prof-specialty       4140\n",
              "Craft-repair         4099\n",
              "Exec-managerial      4066\n",
              "Adm-clerical         3770\n",
              "Sales                3650\n",
              "Other-service        3295\n",
              "Machine-op-inspct    2002\n",
              "?                    1843\n",
              "Transport-moving     1597\n",
              "Handlers-cleaners    1370\n",
              "Farming-fishing       994\n",
              "Tech-support          928\n",
              "Protective-serv       649\n",
              "Priv-house-serv       149\n",
              "Armed-Forces            9\n",
              "Name: occupation, dtype: int64"
            ]
          },
          "metadata": {},
          "execution_count": 8
        }
      ],
      "source": [
        "df.occupation.value_counts()"
      ]
    },
    {
      "cell_type": "markdown",
      "metadata": {
        "id": "UDaDb1QnmMMd"
      },
      "source": [
        "Then we should replace rare classes for one-hot encoded columns"
      ]
    },
    {
      "cell_type": "code",
      "execution_count": null,
      "metadata": {
        "colab": {
          "base_uri": "https://localhost:8080/"
        },
        "id": "3lyCABsfmMMd",
        "outputId": "ea7b7282-1783-4094-83c2-6904f10fb127"
      },
      "outputs": [
        {
          "output_type": "execute_result",
          "data": {
            "text/plain": [
              "Private             22696\n",
              "Self-emp-not-inc     2541\n",
              "Local-gov            2093\n",
              "?                    1857\n",
              "State-gov            1298\n",
              "Self-emp-inc         1116\n",
              "Federal-gov           960\n",
              "Name: workclass, dtype: int64"
            ]
          },
          "metadata": {},
          "execution_count": 9
        }
      ],
      "source": [
        "df.loc[df.workclass.isin(['Without-pay', 'Never-worked']), 'workclass'] = '?'\n",
        "df.workclass.value_counts()"
      ]
    },
    {
      "cell_type": "code",
      "execution_count": null,
      "metadata": {
        "colab": {
          "base_uri": "https://localhost:8080/"
        },
        "id": "XgxGG9K0mMMe",
        "outputId": "647e39a0-928a-4b3b-fd40-7af5c6096051"
      },
      "outputs": [
        {
          "output_type": "execute_result",
          "data": {
            "text/plain": [
              "Prof-specialty       4140\n",
              "Craft-repair         4099\n",
              "Exec-managerial      4066\n",
              "Adm-clerical         3770\n",
              "Sales                3650\n",
              "Other-service        3295\n",
              "?                    2650\n",
              "Machine-op-inspct    2002\n",
              "Transport-moving     1597\n",
              "Handlers-cleaners    1370\n",
              "Farming-fishing       994\n",
              "Tech-support          928\n",
              "Name: occupation, dtype: int64"
            ]
          },
          "metadata": {},
          "execution_count": 10
        }
      ],
      "source": [
        "df.loc[df.occupation.isin(['Protective-serv', 'Priv-house-serv', 'Armed-Forces']), 'occupation'] = '?'\n",
        "df.occupation.value_counts()"
      ]
    },
    {
      "cell_type": "markdown",
      "metadata": {
        "id": "WcpWwUdNmMMe"
      },
      "source": [
        "#### Final step - one hot encoding"
      ]
    },
    {
      "cell_type": "code",
      "execution_count": null,
      "metadata": {
        "colab": {
          "base_uri": "https://localhost:8080/",
          "height": 553
        },
        "id": "qVONfIQImMMe",
        "outputId": "30580f75-d0b8-4062-bebc-c4affb38068b"
      },
      "outputs": [
        {
          "output_type": "stream",
          "name": "stdout",
          "text": [
            "(32561, 24)\n",
            "Index(['age', 'education-num', 'hours-per-week', 'income', 'sex_Male',\n",
            "       'workclass_?', 'workclass_Federal-gov', 'workclass_Local-gov',\n",
            "       'workclass_Private', 'workclass_Self-emp-inc',\n",
            "       'workclass_Self-emp-not-inc', 'workclass_State-gov', 'occupation_?',\n",
            "       'occupation_Adm-clerical', 'occupation_Craft-repair',\n",
            "       'occupation_Exec-managerial', 'occupation_Farming-fishing',\n",
            "       'occupation_Handlers-cleaners', 'occupation_Machine-op-inspct',\n",
            "       'occupation_Other-service', 'occupation_Prof-specialty',\n",
            "       'occupation_Sales', 'occupation_Tech-support',\n",
            "       'occupation_Transport-moving'],\n",
            "      dtype='object')\n"
          ]
        },
        {
          "output_type": "execute_result",
          "data": {
            "text/plain": [
              "   age  education-num  hours-per-week  income  sex_Male  workclass_?  \\\n",
              "0   39             13              40       0         1            0   \n",
              "1   50             13              13       0         1            0   \n",
              "2   38              9              40       0         1            0   \n",
              "3   53              7              40       0         1            0   \n",
              "4   28             13              40       0         0            0   \n",
              "\n",
              "   workclass_Federal-gov  workclass_Local-gov  workclass_Private  \\\n",
              "0                      0                    0                  0   \n",
              "1                      0                    0                  0   \n",
              "2                      0                    0                  1   \n",
              "3                      0                    0                  1   \n",
              "4                      0                    0                  1   \n",
              "\n",
              "   workclass_Self-emp-inc  ...  occupation_Craft-repair  \\\n",
              "0                       0  ...                        0   \n",
              "1                       0  ...                        0   \n",
              "2                       0  ...                        0   \n",
              "3                       0  ...                        0   \n",
              "4                       0  ...                        0   \n",
              "\n",
              "   occupation_Exec-managerial  occupation_Farming-fishing  \\\n",
              "0                           0                           0   \n",
              "1                           1                           0   \n",
              "2                           0                           0   \n",
              "3                           0                           0   \n",
              "4                           0                           0   \n",
              "\n",
              "   occupation_Handlers-cleaners  occupation_Machine-op-inspct  \\\n",
              "0                             0                             0   \n",
              "1                             0                             0   \n",
              "2                             1                             0   \n",
              "3                             1                             0   \n",
              "4                             0                             0   \n",
              "\n",
              "   occupation_Other-service  occupation_Prof-specialty  occupation_Sales  \\\n",
              "0                         0                          0                 0   \n",
              "1                         0                          0                 0   \n",
              "2                         0                          0                 0   \n",
              "3                         0                          0                 0   \n",
              "4                         0                          1                 0   \n",
              "\n",
              "   occupation_Tech-support  occupation_Transport-moving  \n",
              "0                        0                            0  \n",
              "1                        0                            0  \n",
              "2                        0                            0  \n",
              "3                        0                            0  \n",
              "4                        0                            0  \n",
              "\n",
              "[5 rows x 24 columns]"
            ],
            "text/html": [
              "\n",
              "  <div id=\"df-c099a019-49a4-4fbb-a6fe-fe1ef2085283\">\n",
              "    <div class=\"colab-df-container\">\n",
              "      <div>\n",
              "<style scoped>\n",
              "    .dataframe tbody tr th:only-of-type {\n",
              "        vertical-align: middle;\n",
              "    }\n",
              "\n",
              "    .dataframe tbody tr th {\n",
              "        vertical-align: top;\n",
              "    }\n",
              "\n",
              "    .dataframe thead th {\n",
              "        text-align: right;\n",
              "    }\n",
              "</style>\n",
              "<table border=\"1\" class=\"dataframe\">\n",
              "  <thead>\n",
              "    <tr style=\"text-align: right;\">\n",
              "      <th></th>\n",
              "      <th>age</th>\n",
              "      <th>education-num</th>\n",
              "      <th>hours-per-week</th>\n",
              "      <th>income</th>\n",
              "      <th>sex_Male</th>\n",
              "      <th>workclass_?</th>\n",
              "      <th>workclass_Federal-gov</th>\n",
              "      <th>workclass_Local-gov</th>\n",
              "      <th>workclass_Private</th>\n",
              "      <th>workclass_Self-emp-inc</th>\n",
              "      <th>...</th>\n",
              "      <th>occupation_Craft-repair</th>\n",
              "      <th>occupation_Exec-managerial</th>\n",
              "      <th>occupation_Farming-fishing</th>\n",
              "      <th>occupation_Handlers-cleaners</th>\n",
              "      <th>occupation_Machine-op-inspct</th>\n",
              "      <th>occupation_Other-service</th>\n",
              "      <th>occupation_Prof-specialty</th>\n",
              "      <th>occupation_Sales</th>\n",
              "      <th>occupation_Tech-support</th>\n",
              "      <th>occupation_Transport-moving</th>\n",
              "    </tr>\n",
              "  </thead>\n",
              "  <tbody>\n",
              "    <tr>\n",
              "      <th>0</th>\n",
              "      <td>39</td>\n",
              "      <td>13</td>\n",
              "      <td>40</td>\n",
              "      <td>0</td>\n",
              "      <td>1</td>\n",
              "      <td>0</td>\n",
              "      <td>0</td>\n",
              "      <td>0</td>\n",
              "      <td>0</td>\n",
              "      <td>0</td>\n",
              "      <td>...</td>\n",
              "      <td>0</td>\n",
              "      <td>0</td>\n",
              "      <td>0</td>\n",
              "      <td>0</td>\n",
              "      <td>0</td>\n",
              "      <td>0</td>\n",
              "      <td>0</td>\n",
              "      <td>0</td>\n",
              "      <td>0</td>\n",
              "      <td>0</td>\n",
              "    </tr>\n",
              "    <tr>\n",
              "      <th>1</th>\n",
              "      <td>50</td>\n",
              "      <td>13</td>\n",
              "      <td>13</td>\n",
              "      <td>0</td>\n",
              "      <td>1</td>\n",
              "      <td>0</td>\n",
              "      <td>0</td>\n",
              "      <td>0</td>\n",
              "      <td>0</td>\n",
              "      <td>0</td>\n",
              "      <td>...</td>\n",
              "      <td>0</td>\n",
              "      <td>1</td>\n",
              "      <td>0</td>\n",
              "      <td>0</td>\n",
              "      <td>0</td>\n",
              "      <td>0</td>\n",
              "      <td>0</td>\n",
              "      <td>0</td>\n",
              "      <td>0</td>\n",
              "      <td>0</td>\n",
              "    </tr>\n",
              "    <tr>\n",
              "      <th>2</th>\n",
              "      <td>38</td>\n",
              "      <td>9</td>\n",
              "      <td>40</td>\n",
              "      <td>0</td>\n",
              "      <td>1</td>\n",
              "      <td>0</td>\n",
              "      <td>0</td>\n",
              "      <td>0</td>\n",
              "      <td>1</td>\n",
              "      <td>0</td>\n",
              "      <td>...</td>\n",
              "      <td>0</td>\n",
              "      <td>0</td>\n",
              "      <td>0</td>\n",
              "      <td>1</td>\n",
              "      <td>0</td>\n",
              "      <td>0</td>\n",
              "      <td>0</td>\n",
              "      <td>0</td>\n",
              "      <td>0</td>\n",
              "      <td>0</td>\n",
              "    </tr>\n",
              "    <tr>\n",
              "      <th>3</th>\n",
              "      <td>53</td>\n",
              "      <td>7</td>\n",
              "      <td>40</td>\n",
              "      <td>0</td>\n",
              "      <td>1</td>\n",
              "      <td>0</td>\n",
              "      <td>0</td>\n",
              "      <td>0</td>\n",
              "      <td>1</td>\n",
              "      <td>0</td>\n",
              "      <td>...</td>\n",
              "      <td>0</td>\n",
              "      <td>0</td>\n",
              "      <td>0</td>\n",
              "      <td>1</td>\n",
              "      <td>0</td>\n",
              "      <td>0</td>\n",
              "      <td>0</td>\n",
              "      <td>0</td>\n",
              "      <td>0</td>\n",
              "      <td>0</td>\n",
              "    </tr>\n",
              "    <tr>\n",
              "      <th>4</th>\n",
              "      <td>28</td>\n",
              "      <td>13</td>\n",
              "      <td>40</td>\n",
              "      <td>0</td>\n",
              "      <td>0</td>\n",
              "      <td>0</td>\n",
              "      <td>0</td>\n",
              "      <td>0</td>\n",
              "      <td>1</td>\n",
              "      <td>0</td>\n",
              "      <td>...</td>\n",
              "      <td>0</td>\n",
              "      <td>0</td>\n",
              "      <td>0</td>\n",
              "      <td>0</td>\n",
              "      <td>0</td>\n",
              "      <td>0</td>\n",
              "      <td>1</td>\n",
              "      <td>0</td>\n",
              "      <td>0</td>\n",
              "      <td>0</td>\n",
              "    </tr>\n",
              "  </tbody>\n",
              "</table>\n",
              "<p>5 rows × 24 columns</p>\n",
              "</div>\n",
              "      <button class=\"colab-df-convert\" onclick=\"convertToInteractive('df-c099a019-49a4-4fbb-a6fe-fe1ef2085283')\"\n",
              "              title=\"Convert this dataframe to an interactive table.\"\n",
              "              style=\"display:none;\">\n",
              "        \n",
              "  <svg xmlns=\"http://www.w3.org/2000/svg\" height=\"24px\"viewBox=\"0 0 24 24\"\n",
              "       width=\"24px\">\n",
              "    <path d=\"M0 0h24v24H0V0z\" fill=\"none\"/>\n",
              "    <path d=\"M18.56 5.44l.94 2.06.94-2.06 2.06-.94-2.06-.94-.94-2.06-.94 2.06-2.06.94zm-11 1L8.5 8.5l.94-2.06 2.06-.94-2.06-.94L8.5 2.5l-.94 2.06-2.06.94zm10 10l.94 2.06.94-2.06 2.06-.94-2.06-.94-.94-2.06-.94 2.06-2.06.94z\"/><path d=\"M17.41 7.96l-1.37-1.37c-.4-.4-.92-.59-1.43-.59-.52 0-1.04.2-1.43.59L10.3 9.45l-7.72 7.72c-.78.78-.78 2.05 0 2.83L4 21.41c.39.39.9.59 1.41.59.51 0 1.02-.2 1.41-.59l7.78-7.78 2.81-2.81c.8-.78.8-2.07 0-2.86zM5.41 20L4 18.59l7.72-7.72 1.47 1.35L5.41 20z\"/>\n",
              "  </svg>\n",
              "      </button>\n",
              "      \n",
              "  <style>\n",
              "    .colab-df-container {\n",
              "      display:flex;\n",
              "      flex-wrap:wrap;\n",
              "      gap: 12px;\n",
              "    }\n",
              "\n",
              "    .colab-df-convert {\n",
              "      background-color: #E8F0FE;\n",
              "      border: none;\n",
              "      border-radius: 50%;\n",
              "      cursor: pointer;\n",
              "      display: none;\n",
              "      fill: #1967D2;\n",
              "      height: 32px;\n",
              "      padding: 0 0 0 0;\n",
              "      width: 32px;\n",
              "    }\n",
              "\n",
              "    .colab-df-convert:hover {\n",
              "      background-color: #E2EBFA;\n",
              "      box-shadow: 0px 1px 2px rgba(60, 64, 67, 0.3), 0px 1px 3px 1px rgba(60, 64, 67, 0.15);\n",
              "      fill: #174EA6;\n",
              "    }\n",
              "\n",
              "    [theme=dark] .colab-df-convert {\n",
              "      background-color: #3B4455;\n",
              "      fill: #D2E3FC;\n",
              "    }\n",
              "\n",
              "    [theme=dark] .colab-df-convert:hover {\n",
              "      background-color: #434B5C;\n",
              "      box-shadow: 0px 1px 3px 1px rgba(0, 0, 0, 0.15);\n",
              "      filter: drop-shadow(0px 1px 2px rgba(0, 0, 0, 0.3));\n",
              "      fill: #FFFFFF;\n",
              "    }\n",
              "  </style>\n",
              "\n",
              "      <script>\n",
              "        const buttonEl =\n",
              "          document.querySelector('#df-c099a019-49a4-4fbb-a6fe-fe1ef2085283 button.colab-df-convert');\n",
              "        buttonEl.style.display =\n",
              "          google.colab.kernel.accessAllowed ? 'block' : 'none';\n",
              "\n",
              "        async function convertToInteractive(key) {\n",
              "          const element = document.querySelector('#df-c099a019-49a4-4fbb-a6fe-fe1ef2085283');\n",
              "          const dataTable =\n",
              "            await google.colab.kernel.invokeFunction('convertToInteractive',\n",
              "                                                     [key], {});\n",
              "          if (!dataTable) return;\n",
              "\n",
              "          const docLinkHtml = 'Like what you see? Visit the ' +\n",
              "            '<a target=\"_blank\" href=https://colab.research.google.com/notebooks/data_table.ipynb>data table notebook</a>'\n",
              "            + ' to learn more about interactive tables.';\n",
              "          element.innerHTML = '';\n",
              "          dataTable['output_type'] = 'display_data';\n",
              "          await google.colab.output.renderOutput(dataTable, element);\n",
              "          const docLink = document.createElement('div');\n",
              "          docLink.innerHTML = docLinkHtml;\n",
              "          element.appendChild(docLink);\n",
              "        }\n",
              "      </script>\n",
              "    </div>\n",
              "  </div>\n",
              "  "
            ]
          },
          "metadata": {},
          "execution_count": 11
        }
      ],
      "source": [
        "df = pd.get_dummies(df, columns=['workclass', 'occupation'])\n",
        "print (df.shape)\n",
        "print (df.columns)\n",
        "df.head()"
      ]
    },
    {
      "cell_type": "markdown",
      "metadata": {
        "id": "Yi-AM_MrmMMe"
      },
      "source": [
        "## Splitting dataset"
      ]
    },
    {
      "cell_type": "markdown",
      "metadata": {
        "id": "Pq_R0k2nmMMf"
      },
      "source": [
        "Let's split the dataset into features and labels first.\n",
        "- `income` is the label (`y`)\n",
        "- all other columns are features (`X`)"
      ]
    },
    {
      "cell_type": "code",
      "execution_count": null,
      "metadata": {
        "id": "AYQo0MT8mMMf"
      },
      "outputs": [],
      "source": [
        "y = df.income\n",
        "X = df.drop(['income'], axis=1)"
      ]
    },
    {
      "cell_type": "markdown",
      "metadata": {
        "id": "xEK-SRwKmMMf"
      },
      "source": [
        "### Train test split\n",
        "#### NOTE: This time we want to split the data into 3 datasets\n",
        "Split ratio: 60, 20, 20"
      ]
    },
    {
      "cell_type": "code",
      "execution_count": null,
      "metadata": {
        "colab": {
          "base_uri": "https://localhost:8080/"
        },
        "id": "oSEfSVaxmMMf",
        "outputId": "4fbbf404-b2dc-435a-f05f-b9462265c153"
      },
      "outputs": [
        {
          "output_type": "stream",
          "name": "stdout",
          "text": [
            "X train shape: (19536, 23)\n",
            "y train shape: (19536,)\n",
            "X valid shape: (6512, 23)\n",
            "y valid shape: (6512,)\n",
            "X test shape: (6513, 23)\n",
            "y test shape: (6513,)\n"
          ]
        }
      ],
      "source": [
        "from sklearn.model_selection import train_test_split\n",
        "X_train, X_test, y_train, y_test = train_test_split(X, y, test_size=0.4, \n",
        "                                                    stratify = y, random_state=1)\n",
        "\n",
        "X_valid, X_test, y_valid, y_test = train_test_split(X_test, y_test, test_size=0.5, \n",
        "                                                    stratify = y_test, random_state=1)\n",
        "\n",
        "\n",
        "\n",
        "print ('X train shape:', X_train.shape)\n",
        "print ('y train shape:', y_train.shape)\n",
        "\n",
        "print ('X valid shape:', X_valid.shape)\n",
        "print ('y valid shape:', y_valid.shape)\n",
        "\n",
        "print ('X test shape:', X_test.shape)\n",
        "print ('y test shape:', y_test.shape)"
      ]
    },
    {
      "cell_type": "markdown",
      "metadata": {
        "id": "r4GFVrEKmMMf"
      },
      "source": [
        "# Keras"
      ]
    },
    {
      "cell_type": "markdown",
      "metadata": {
        "id": "apWU1gYumMMg"
      },
      "source": [
        "Import modules"
      ]
    },
    {
      "cell_type": "code",
      "execution_count": null,
      "metadata": {
        "id": "2cu1JrP0mMMg"
      },
      "outputs": [],
      "source": [
        "from tensorflow.keras.models import Sequential\n",
        "from tensorflow.keras.layers import Dense\n",
        "from tensorflow.keras.layers import Dropout\n",
        "from tensorflow.keras import optimizers"
      ]
    },
    {
      "cell_type": "markdown",
      "metadata": {
        "id": "bi0rOdqMmMMg"
      },
      "source": [
        "## Building model"
      ]
    },
    {
      "cell_type": "markdown",
      "metadata": {
        "id": "KW2b8VN9mMMg"
      },
      "source": [
        "Let's define the hyperparameters first"
      ]
    },
    {
      "cell_type": "code",
      "execution_count": null,
      "metadata": {
        "colab": {
          "base_uri": "https://localhost:8080/"
        },
        "id": "NK5XHtYZmMMh",
        "outputId": "7933ab24-5cc0-48a3-f410-17d43aacc11e"
      },
      "outputs": [
        {
          "output_type": "stream",
          "name": "stdout",
          "text": [
            "X_train dataset cointains 23 features (columns).\n"
          ]
        }
      ],
      "source": [
        "CELLS_1 = 32\n",
        "CELLS_2 = 8\n",
        "LEARNING_RATE = 0.001\n",
        "EPOCHS = 10\n",
        "BATCH_SIZE = 128\n",
        "\n",
        "\n",
        "NR_INPUTS = X_train.shape[1]\n",
        "\n",
        "print ('X_train dataset cointains {} features (columns).'.format(NR_INPUTS))"
      ]
    },
    {
      "cell_type": "markdown",
      "metadata": {
        "id": "O7r9s0rpmMMh"
      },
      "source": [
        "Now we may build the model"
      ]
    },
    {
      "cell_type": "code",
      "execution_count": null,
      "metadata": {
        "colab": {
          "base_uri": "https://localhost:8080/"
        },
        "id": "dfuVEA5PmMMh",
        "outputId": "b064e2a0-5453-49f7-cc95-dbb29cfb9533"
      },
      "outputs": [
        {
          "output_type": "stream",
          "name": "stderr",
          "text": [
            "WARNING:absl:`lr` is deprecated in Keras optimizer, please use `learning_rate` or use the legacy optimizer, e.g.,tf.keras.optimizers.legacy.Adam.\n"
          ]
        },
        {
          "output_type": "stream",
          "name": "stdout",
          "text": [
            "Model: \"sequential\"\n",
            "_________________________________________________________________\n",
            " Layer (type)                Output Shape              Param #   \n",
            "=================================================================\n",
            " dense (Dense)               (None, 32)                768       \n",
            "                                                                 \n",
            " dense_1 (Dense)             (None, 8)                 264       \n",
            "                                                                 \n",
            " dense_2 (Dense)             (None, 1)                 9         \n",
            "                                                                 \n",
            "=================================================================\n",
            "Total params: 1,041\n",
            "Trainable params: 1,041\n",
            "Non-trainable params: 0\n",
            "_________________________________________________________________\n"
          ]
        }
      ],
      "source": [
        "model = Sequential()\n",
        "\n",
        "model.add(Dense(CELLS_1, input_shape=[NR_INPUTS, ], activation='relu'))\n",
        "model.add(Dense(CELLS_2, activation='relu'))\n",
        "model.add(Dense(1, activation='sigmoid'))\n",
        "\n",
        "optimizer = optimizers.Adam(lr=LEARNING_RATE)\n",
        "\n",
        "model.compile(loss = 'binary_crossentropy', optimizer=optimizer, metrics=['accuracy'])\n",
        "\n",
        "model.summary()"
      ]
    },
    {
      "cell_type": "code",
      "execution_count": null,
      "metadata": {
        "colab": {
          "base_uri": "https://localhost:8080/"
        },
        "id": "lvOn2gY4mMMh",
        "outputId": "114f7c26-8ccc-4b0e-c71c-529970399fdf"
      },
      "outputs": [
        {
          "output_type": "stream",
          "name": "stdout",
          "text": [
            "Epoch 1/10\n",
            "153/153 [==============================] - 2s 5ms/step - loss: 0.6397 - accuracy: 0.7180 - val_loss: 0.5187 - val_accuracy: 0.7657\n",
            "Epoch 2/10\n",
            "153/153 [==============================] - 0s 3ms/step - loss: 0.4912 - accuracy: 0.7753 - val_loss: 0.4619 - val_accuracy: 0.7853\n",
            "Epoch 3/10\n",
            "153/153 [==============================] - 0s 3ms/step - loss: 0.4540 - accuracy: 0.7860 - val_loss: 0.4396 - val_accuracy: 0.7930\n",
            "Epoch 4/10\n",
            "153/153 [==============================] - 1s 3ms/step - loss: 0.4424 - accuracy: 0.7936 - val_loss: 0.4288 - val_accuracy: 0.7964\n",
            "Epoch 5/10\n",
            "153/153 [==============================] - 0s 3ms/step - loss: 0.4318 - accuracy: 0.8000 - val_loss: 0.4232 - val_accuracy: 0.8042\n",
            "Epoch 6/10\n",
            "153/153 [==============================] - 0s 3ms/step - loss: 0.4240 - accuracy: 0.8003 - val_loss: 0.4157 - val_accuracy: 0.8087\n",
            "Epoch 7/10\n",
            "153/153 [==============================] - 0s 3ms/step - loss: 0.4213 - accuracy: 0.8024 - val_loss: 0.4220 - val_accuracy: 0.8070\n",
            "Epoch 8/10\n",
            "153/153 [==============================] - 0s 3ms/step - loss: 0.4225 - accuracy: 0.8013 - val_loss: 0.4074 - val_accuracy: 0.8131\n",
            "Epoch 9/10\n",
            "153/153 [==============================] - 0s 3ms/step - loss: 0.4168 - accuracy: 0.8034 - val_loss: 0.4062 - val_accuracy: 0.8116\n",
            "Epoch 10/10\n",
            "153/153 [==============================] - 0s 3ms/step - loss: 0.4122 - accuracy: 0.8076 - val_loss: 0.4074 - val_accuracy: 0.8117\n"
          ]
        }
      ],
      "source": [
        "history = model.fit(X_train, y_train, \n",
        "                    validation_data = (X_valid, y_valid),\n",
        "                    batch_size = BATCH_SIZE, \n",
        "                    epochs=EPOCHS)"
      ]
    },
    {
      "cell_type": "markdown",
      "metadata": {
        "id": "4tqfS9IOmMMi"
      },
      "source": [
        "Let's display the training history"
      ]
    },
    {
      "cell_type": "code",
      "execution_count": null,
      "metadata": {
        "colab": {
          "base_uri": "https://localhost:8080/",
          "height": 372
        },
        "id": "1Pd0ekummMMi",
        "outputId": "ddff38b0-18a8-4a02-c2d0-0eafc7de8c5a"
      },
      "outputs": [
        {
          "output_type": "display_data",
          "data": {
            "text/plain": [
              "<Figure size 800x400 with 2 Axes>"
            ],
            "image/png": "[encoded data removed]"
          },
          "metadata": {}
        }
      ],
      "source": [
        "def plot_train_valid_history(history):\n",
        "    \"\"\"\n",
        "    Plots train and validation losses.\n",
        "    Arguments: history - history of training (result of keras model.fit).\n",
        "        history.history must be a dictionary that looks as follow:\n",
        "        {\n",
        "            'loss' : .....\n",
        "            'valid_loss' : .....\n",
        "            'accuracy' : .... # Optional\n",
        "            'val_accuracy' : ..... # Optional\n",
        "        }\n",
        "    \"\"\"\n",
        "    epochs = np.arange(len(history.history['val_loss'])) + 1\n",
        "    fig = plt.figure(figsize=(8, 4))\n",
        "    if 'accuracy' in history.history:\n",
        "        ax1 = fig.add_subplot(121)\n",
        "        ax1.plot(epochs, history.history['loss'], c='b', label='Train loss')\n",
        "        ax1.plot(epochs, history.history['val_loss'], c='g', label='Valid loss')\n",
        "        plt.legend(loc='lower left');\n",
        "        plt.grid(True)        \n",
        "        \n",
        "        ax1 = fig.add_subplot(122)\n",
        "        ax1.plot(epochs, history.history['accuracy'], c='b', label='Train acc')\n",
        "        ax1.plot(epochs, history.history['val_accuracy'], c='g', label='Valid acc')\n",
        "        plt.legend(loc='lower right');\n",
        "        plt.grid(True)        \n",
        "         \n",
        "        \n",
        "    else:\n",
        "        ax1 = fig.add_subplot(111)\n",
        "        ax1.plot(epochs, history.history['loss'], c='b', label='Train loss')\n",
        "        ax1.plot(epochs, history.history['val_loss'], c='g', label='Valid loss')\n",
        "        plt.legend(loc='lower left');\n",
        "        plt.grid(True)\n",
        "    plt.show()\n",
        "\n",
        "\n",
        "plot_train_valid_history(history)"
      ]
    },
    {
      "cell_type": "code",
      "execution_count": null,
      "metadata": {
        "colab": {
          "base_uri": "https://localhost:8080/"
        },
        "id": "VFVkKY93mMMi",
        "outputId": "f820584e-c685-42d1-df04-14f4038c98bf"
      },
      "outputs": [
        {
          "output_type": "stream",
          "name": "stdout",
          "text": [
            "204/204 [==============================] - 0s 1ms/step - loss: 0.4107 - accuracy: 0.8130\n",
            "Test score: 0.4106787145137787\n",
            "Test accuracy: 0.8129894137382507\n"
          ]
        }
      ],
      "source": [
        "score, acc = model.evaluate(X_test, y_test)\n",
        "print('Test score:', score)\n",
        "print('Test accuracy:', acc)"
      ]
    },
    {
      "cell_type": "markdown",
      "metadata": {
        "id": "8NabQZ_0mMMj"
      },
      "source": [
        "## Task 1\n",
        "Create, train and test a model with following parameters:\n",
        "- First hidden layer: 32 neurons, relu activation\n",
        "- Dropout after first hidden layer keep_probability = 0.5\n",
        "- Second hidden layer: 32 neurons, relu activation\n",
        "- Output layer: 1 neuron, sigmoid activation\n",
        "\n",
        "Training parameters:\n",
        "- Learning Rate: 0.0003\n",
        "- Number of Epochs: 50\n",
        "- Batch size: 128\n",
        "\n",
        "*Note: You will need your model in task 2, so it is a good idea to write a function, which creates the model.*\n",
        "\n",
        "![alt text](./img/model_keras_task1.png \"Task 1 model\")"
      ]
    },
    {
      "cell_type": "code",
      "execution_count": null,
      "metadata": {
        "colab": {
          "base_uri": "https://localhost:8080/"
        },
        "id": "8p2FWeYDmMMj",
        "outputId": "8e18ddc1-e926-4ce6-9d00-f365e57a5878"
      },
      "outputs": [
        {
          "output_type": "stream",
          "name": "stdout",
          "text": [
            "X_train dataset cointains 23 features (columns).\n"
          ]
        }
      ],
      "source": [
        "# HYPERPARAMETERS\n",
        "CELLS_1 = 32\n",
        "CELLS_2 = 32\n",
        "LEARNING_RATE = 0.0003\n",
        "EPOCHS = 50\n",
        "BATCH_SIZE = 128\n",
        "\n",
        "NR_INPUTS = X_train.shape[1]\n",
        "print ('X_train dataset cointains {} features (columns).'.format(NR_INPUTS))\n",
        "\n"
      ]
    },
    {
      "cell_type": "code",
      "execution_count": null,
      "metadata": {
        "id": "1sk2WDixmMMj"
      },
      "outputs": [],
      "source": [
        "def create_model():\n",
        "    model = Sequential()\n",
        "\n",
        "    #pierwsza warstwa 32 neurony\n",
        "    model.add(Dense(CELLS_1, input_shape = [NR_INPUTS,], activation = 'relu'  ))\n",
        "    #warstwa dropout 0.5 probability \n",
        "    model.add(Dropout(0.5))\n",
        "    #druga warstwa 32 neurony \n",
        "    model.add(Dense(CELLS_2, activation = 'relu'))\n",
        "    #warstwa wyjsciowa 1 neuron \n",
        "    model.add(Dense(1, activation = 'sigmoid'))\n",
        "\n",
        "    optimizer = optimizers.Adam(lr = LEARNING_RATE)\n",
        "    model.compile(loss = 'binary_crossentropy', optimizer = optimizer, metrics = ['accuracy'])\n",
        "    model.summary()\n",
        "    return model\n"
      ]
    },
    {
      "cell_type": "code",
      "execution_count": null,
      "metadata": {
        "colab": {
          "base_uri": "https://localhost:8080/"
        },
        "id": "ZOwSf19AmMMj",
        "outputId": "5eb3aef5-210e-40bc-cfe3-0af6cada8889"
      },
      "outputs": [
        {
          "output_type": "stream",
          "name": "stderr",
          "text": [
            "WARNING:absl:`lr` is deprecated in Keras optimizer, please use `learning_rate` or use the legacy optimizer, e.g.,tf.keras.optimizers.legacy.Adam.\n"
          ]
        },
        {
          "output_type": "stream",
          "name": "stdout",
          "text": [
            "Model: \"sequential_2\"\n",
            "_________________________________________________________________\n",
            " Layer (type)                Output Shape              Param #   \n",
            "=================================================================\n",
            " dense_4 (Dense)             (None, 32)                768       \n",
            "                                                                 \n",
            " dropout (Dropout)           (None, 32)                0         \n",
            "                                                                 \n",
            " dense_5 (Dense)             (None, 32)                1056      \n",
            "                                                                 \n",
            " dense_6 (Dense)             (None, 1)                 33        \n",
            "                                                                 \n",
            "=================================================================\n",
            "Total params: 1,857\n",
            "Trainable params: 1,857\n",
            "Non-trainable params: 0\n",
            "_________________________________________________________________\n"
          ]
        },
        {
          "output_type": "execute_result",
          "data": {
            "text/plain": [
              "<keras.engine.sequential.Sequential at 0x7f67ee35c820>"
            ]
          },
          "metadata": {},
          "execution_count": 24
        }
      ],
      "source": [
        "create_model()"
      ]
    },
    {
      "cell_type": "code",
      "execution_count": null,
      "metadata": {
        "colab": {
          "base_uri": "https://localhost:8080/"
        },
        "id": "tVsjLU2SmMMj",
        "outputId": "31a613f8-eb98-45fd-9c87-69abe0ae8303"
      },
      "outputs": [
        {
          "output_type": "stream",
          "name": "stdout",
          "text": [
            "Epoch 1/50\n",
            "153/153 [==============================] - 1s 5ms/step - loss: 0.4093 - accuracy: 0.8092 - val_loss: 0.4069 - val_accuracy: 0.8107\n",
            "Epoch 2/50\n",
            "153/153 [==============================] - 1s 4ms/step - loss: 0.4077 - accuracy: 0.8110 - val_loss: 0.3988 - val_accuracy: 0.8162\n",
            "Epoch 3/50\n",
            "153/153 [==============================] - 1s 4ms/step - loss: 0.4061 - accuracy: 0.8091 - val_loss: 0.4016 - val_accuracy: 0.8196\n",
            "Epoch 4/50\n",
            "153/153 [==============================] - 0s 3ms/step - loss: 0.4073 - accuracy: 0.8105 - val_loss: 0.4000 - val_accuracy: 0.8166\n",
            "Epoch 5/50\n",
            "153/153 [==============================] - 1s 5ms/step - loss: 0.4026 - accuracy: 0.8120 - val_loss: 0.3956 - val_accuracy: 0.8173\n",
            "Epoch 6/50\n",
            "153/153 [==============================] - 1s 6ms/step - loss: 0.4040 - accuracy: 0.8096 - val_loss: 0.3983 - val_accuracy: 0.8160\n",
            "Epoch 7/50\n",
            "153/153 [==============================] - 1s 7ms/step - loss: 0.4022 - accuracy: 0.8126 - val_loss: 0.4222 - val_accuracy: 0.8054\n",
            "Epoch 8/50\n",
            "153/153 [==============================] - 1s 7ms/step - loss: 0.4032 - accuracy: 0.8107 - val_loss: 0.4000 - val_accuracy: 0.8125\n",
            "Epoch 9/50\n",
            "153/153 [==============================] - 1s 9ms/step - loss: 0.4048 - accuracy: 0.8075 - val_loss: 0.3912 - val_accuracy: 0.8217\n",
            "Epoch 10/50\n",
            "153/153 [==============================] - 1s 6ms/step - loss: 0.4018 - accuracy: 0.8113 - val_loss: 0.3994 - val_accuracy: 0.8145\n",
            "Epoch 11/50\n",
            "153/153 [==============================] - 1s 8ms/step - loss: 0.4021 - accuracy: 0.8116 - val_loss: 0.3922 - val_accuracy: 0.8209\n",
            "Epoch 12/50\n",
            "153/153 [==============================] - 1s 8ms/step - loss: 0.4032 - accuracy: 0.8106 - val_loss: 0.3973 - val_accuracy: 0.8162\n",
            "Epoch 13/50\n",
            "153/153 [==============================] - 1s 8ms/step - loss: 0.4025 - accuracy: 0.8098 - val_loss: 0.3910 - val_accuracy: 0.8182\n",
            "Epoch 14/50\n",
            "153/153 [==============================] - 1s 8ms/step - loss: 0.3983 - accuracy: 0.8156 - val_loss: 0.3936 - val_accuracy: 0.8163\n",
            "Epoch 15/50\n",
            "153/153 [==============================] - 1s 10ms/step - loss: 0.4047 - accuracy: 0.8091 - val_loss: 0.3966 - val_accuracy: 0.8180\n",
            "Epoch 16/50\n",
            "153/153 [==============================] - 1s 8ms/step - loss: 0.4004 - accuracy: 0.8131 - val_loss: 0.3906 - val_accuracy: 0.8199\n",
            "Epoch 17/50\n",
            "153/153 [==============================] - 1s 6ms/step - loss: 0.3971 - accuracy: 0.8114 - val_loss: 0.4417 - val_accuracy: 0.7752\n",
            "Epoch 18/50\n",
            "153/153 [==============================] - 1s 6ms/step - loss: 0.4011 - accuracy: 0.8119 - val_loss: 0.4317 - val_accuracy: 0.8065\n",
            "Epoch 19/50\n",
            "153/153 [==============================] - 1s 5ms/step - loss: 0.3982 - accuracy: 0.8157 - val_loss: 0.3888 - val_accuracy: 0.8196\n",
            "Epoch 20/50\n",
            "153/153 [==============================] - 1s 5ms/step - loss: 0.3987 - accuracy: 0.8110 - val_loss: 0.3926 - val_accuracy: 0.8203\n",
            "Epoch 21/50\n",
            "153/153 [==============================] - 1s 5ms/step - loss: 0.3971 - accuracy: 0.8144 - val_loss: 0.3890 - val_accuracy: 0.8197\n",
            "Epoch 22/50\n",
            "153/153 [==============================] - 1s 3ms/step - loss: 0.3989 - accuracy: 0.8112 - val_loss: 0.3897 - val_accuracy: 0.8202\n",
            "Epoch 23/50\n",
            "153/153 [==============================] - 1s 3ms/step - loss: 0.3968 - accuracy: 0.8135 - val_loss: 0.3934 - val_accuracy: 0.8189\n",
            "Epoch 24/50\n",
            "153/153 [==============================] - 0s 3ms/step - loss: 0.4004 - accuracy: 0.8117 - val_loss: 0.4115 - val_accuracy: 0.8105\n",
            "Epoch 25/50\n",
            "153/153 [==============================] - 0s 3ms/step - loss: 0.4009 - accuracy: 0.8112 - val_loss: 0.4099 - val_accuracy: 0.8059\n",
            "Epoch 26/50\n",
            "153/153 [==============================] - 0s 3ms/step - loss: 0.4040 - accuracy: 0.8097 - val_loss: 0.3937 - val_accuracy: 0.8162\n",
            "Epoch 27/50\n",
            "153/153 [==============================] - 0s 3ms/step - loss: 0.3952 - accuracy: 0.8136 - val_loss: 0.3923 - val_accuracy: 0.8196\n",
            "Epoch 28/50\n",
            "153/153 [==============================] - 0s 3ms/step - loss: 0.3956 - accuracy: 0.8146 - val_loss: 0.4074 - val_accuracy: 0.8136\n",
            "Epoch 29/50\n",
            "153/153 [==============================] - 0s 3ms/step - loss: 0.3958 - accuracy: 0.8135 - val_loss: 0.3882 - val_accuracy: 0.8193\n",
            "Epoch 30/50\n",
            "153/153 [==============================] - 0s 3ms/step - loss: 0.3973 - accuracy: 0.8137 - val_loss: 0.3890 - val_accuracy: 0.8200\n",
            "Epoch 31/50\n",
            "153/153 [==============================] - 0s 3ms/step - loss: 0.3967 - accuracy: 0.8148 - val_loss: 0.3943 - val_accuracy: 0.8206\n",
            "Epoch 32/50\n",
            "153/153 [==============================] - 0s 3ms/step - loss: 0.3959 - accuracy: 0.8143 - val_loss: 0.3958 - val_accuracy: 0.8183\n",
            "Epoch 33/50\n",
            "153/153 [==============================] - 1s 4ms/step - loss: 0.3981 - accuracy: 0.8104 - val_loss: 0.3905 - val_accuracy: 0.8185\n",
            "Epoch 34/50\n",
            "153/153 [==============================] - 1s 4ms/step - loss: 0.3948 - accuracy: 0.8149 - val_loss: 0.3894 - val_accuracy: 0.8202\n",
            "Epoch 35/50\n",
            "153/153 [==============================] - 1s 4ms/step - loss: 0.3945 - accuracy: 0.8160 - val_loss: 0.3918 - val_accuracy: 0.8196\n",
            "Epoch 36/50\n",
            "153/153 [==============================] - 1s 5ms/step - loss: 0.3973 - accuracy: 0.8138 - val_loss: 0.4048 - val_accuracy: 0.8088\n",
            "Epoch 37/50\n",
            "153/153 [==============================] - 1s 4ms/step - loss: 0.3958 - accuracy: 0.8129 - val_loss: 0.3933 - val_accuracy: 0.8203\n",
            "Epoch 38/50\n",
            "153/153 [==============================] - 1s 3ms/step - loss: 0.3957 - accuracy: 0.8135 - val_loss: 0.3976 - val_accuracy: 0.8088\n",
            "Epoch 39/50\n",
            "153/153 [==============================] - 0s 3ms/step - loss: 0.3961 - accuracy: 0.8136 - val_loss: 0.3982 - val_accuracy: 0.8130\n",
            "Epoch 40/50\n",
            "153/153 [==============================] - 1s 3ms/step - loss: 0.3927 - accuracy: 0.8146 - val_loss: 0.3960 - val_accuracy: 0.8133\n",
            "Epoch 41/50\n",
            "153/153 [==============================] - 1s 4ms/step - loss: 0.3946 - accuracy: 0.8146 - val_loss: 0.4015 - val_accuracy: 0.8091\n",
            "Epoch 42/50\n",
            "153/153 [==============================] - 0s 3ms/step - loss: 0.3957 - accuracy: 0.8139 - val_loss: 0.3912 - val_accuracy: 0.8170\n",
            "Epoch 43/50\n",
            "153/153 [==============================] - 1s 3ms/step - loss: 0.3933 - accuracy: 0.8156 - val_loss: 0.3868 - val_accuracy: 0.8203\n",
            "Epoch 44/50\n",
            "153/153 [==============================] - 1s 3ms/step - loss: 0.3957 - accuracy: 0.8128 - val_loss: 0.3945 - val_accuracy: 0.8186\n",
            "Epoch 45/50\n",
            "153/153 [==============================] - 0s 3ms/step - loss: 0.3941 - accuracy: 0.8141 - val_loss: 0.3886 - val_accuracy: 0.8199\n",
            "Epoch 46/50\n",
            "153/153 [==============================] - 1s 3ms/step - loss: 0.3918 - accuracy: 0.8155 - val_loss: 0.3955 - val_accuracy: 0.8146\n",
            "Epoch 47/50\n",
            "153/153 [==============================] - 0s 3ms/step - loss: 0.3942 - accuracy: 0.8155 - val_loss: 0.3951 - val_accuracy: 0.8186\n",
            "Epoch 48/50\n",
            "153/153 [==============================] - 0s 3ms/step - loss: 0.3944 - accuracy: 0.8152 - val_loss: 0.3941 - val_accuracy: 0.8171\n",
            "Epoch 49/50\n",
            "153/153 [==============================] - 0s 3ms/step - loss: 0.3954 - accuracy: 0.8160 - val_loss: 0.3917 - val_accuracy: 0.8163\n",
            "Epoch 50/50\n",
            "153/153 [==============================] - 0s 3ms/step - loss: 0.3915 - accuracy: 0.8156 - val_loss: 0.3885 - val_accuracy: 0.8189\n"
          ]
        }
      ],
      "source": [
        "history = model.fit(X_train, y_train, \n",
        "                    validation_data = (X_valid, y_valid),\n",
        "                    batch_size = BATCH_SIZE, \n",
        "                    epochs=EPOCHS)\n"
      ]
    },
    {
      "cell_type": "code",
      "execution_count": null,
      "metadata": {
        "colab": {
          "base_uri": "https://localhost:8080/",
          "height": 368
        },
        "id": "uFUX19HDzzdh",
        "outputId": "bc7b0f0c-ad7e-41e8-949a-8b54736a47b7"
      },
      "outputs": [
        {
          "output_type": "display_data",
          "data": {
            "text/plain": [
              "<Figure size 800x400 with 2 Axes>"
            ],
            "image/png": "[encoded data removed]"
          },
          "metadata": {}
        }
      ],
      "source": [
        "plot_train_valid_history(history)"
      ]
    },
    {
      "cell_type": "markdown",
      "metadata": {
        "id": "xGllz8cvmMMj"
      },
      "source": [
        "## Question 1\n",
        "- How does the model behave. Can you see any overfitting or undergitting problems?\n",
        "- How you can prevent these problems?"
      ]
    },
    {
      "cell_type": "markdown",
      "metadata": {
        "id": "U32kEWK4mMMk"
      },
      "source": [
        "## Task 2\n",
        "Normalize your features. Use StandardScaler from sklearn.preprocessing library. Then train your model on the normalized features. Did it change anything with the behaviour of the model?"
      ]
    },
    {
      "cell_type": "code",
      "execution_count": null,
      "metadata": {
        "id": "K9sYd_bLmMMk"
      },
      "outputs": [],
      "source": [
        "from sklearn.preprocessing import StandardScaler\n",
        "scaler = StandardScaler()\n",
        "X_train_scaled  = scaler.fit_transform(X_train)\n",
        "X_test_scaled = scaler.transform(X_test)\n",
        "X_valid_scaled = scaler.transform(X_valid)\n"
      ]
    },
    {
      "cell_type": "code",
      "execution_count": null,
      "metadata": {
        "colab": {
          "base_uri": "https://localhost:8080/"
        },
        "id": "GkEXwM7MmMMk",
        "outputId": "e8677714-1a95-423f-b1fd-5b1e7d449300"
      },
      "outputs": [
        {
          "output_type": "stream",
          "name": "stderr",
          "text": [
            "WARNING:absl:`lr` is deprecated in Keras optimizer, please use `learning_rate` or use the legacy optimizer, e.g.,tf.keras.optimizers.legacy.Adam.\n"
          ]
        },
        {
          "output_type": "stream",
          "name": "stdout",
          "text": [
            "Model: \"sequential_3\"\n",
            "_________________________________________________________________\n",
            " Layer (type)                Output Shape              Param #   \n",
            "=================================================================\n",
            " dense_7 (Dense)             (None, 32)                768       \n",
            "                                                                 \n",
            " dropout_1 (Dropout)         (None, 32)                0         \n",
            "                                                                 \n",
            " dense_8 (Dense)             (None, 32)                1056      \n",
            "                                                                 \n",
            " dense_9 (Dense)             (None, 1)                 33        \n",
            "                                                                 \n",
            "=================================================================\n",
            "Total params: 1,857\n",
            "Trainable params: 1,857\n",
            "Non-trainable params: 0\n",
            "_________________________________________________________________\n"
          ]
        },
        {
          "output_type": "execute_result",
          "data": {
            "text/plain": [
              "<keras.engine.sequential.Sequential at 0x7f67ee1e0d60>"
            ]
          },
          "metadata": {},
          "execution_count": 28
        }
      ],
      "source": [
        "# Create and train the model\n",
        "create_model()"
      ]
    },
    {
      "cell_type": "code",
      "source": [
        "history = model.fit(X_train_scaled, y_train, \n",
        "                    validation_data = (X_valid_scaled, y_valid),\n",
        "                    batch_size = BATCH_SIZE, \n",
        "                    epochs=EPOCHS)"
      ],
      "metadata": {
        "colab": {
          "base_uri": "https://localhost:8080/"
        },
        "id": "_z4-zy4dCv3s",
        "outputId": "58ce055b-2ca2-4bbc-bffa-b7cd96149a00"
      },
      "execution_count": null,
      "outputs": [
        {
          "output_type": "stream",
          "name": "stdout",
          "text": [
            "Epoch 1/50\n",
            "153/153 [==============================] - 1s 4ms/step - loss: 0.5189 - accuracy: 0.7788 - val_loss: 0.4142 - val_accuracy: 0.8125\n",
            "Epoch 2/50\n",
            "153/153 [==============================] - 0s 3ms/step - loss: 0.4139 - accuracy: 0.8091 - val_loss: 0.4009 - val_accuracy: 0.8191\n",
            "Epoch 3/50\n",
            "153/153 [==============================] - 1s 4ms/step - loss: 0.4048 - accuracy: 0.8134 - val_loss: 0.3986 - val_accuracy: 0.8168\n",
            "Epoch 4/50\n",
            "153/153 [==============================] - 1s 4ms/step - loss: 0.4004 - accuracy: 0.8145 - val_loss: 0.3955 - val_accuracy: 0.8168\n",
            "Epoch 5/50\n",
            "153/153 [==============================] - 1s 4ms/step - loss: 0.3983 - accuracy: 0.8154 - val_loss: 0.3944 - val_accuracy: 0.8193\n",
            "Epoch 6/50\n",
            "153/153 [==============================] - 1s 4ms/step - loss: 0.3975 - accuracy: 0.8152 - val_loss: 0.3928 - val_accuracy: 0.8182\n",
            "Epoch 7/50\n",
            "153/153 [==============================] - 1s 4ms/step - loss: 0.3957 - accuracy: 0.8167 - val_loss: 0.3929 - val_accuracy: 0.8179\n",
            "Epoch 8/50\n",
            "153/153 [==============================] - 0s 3ms/step - loss: 0.3948 - accuracy: 0.8171 - val_loss: 0.3917 - val_accuracy: 0.8179\n",
            "Epoch 9/50\n",
            "153/153 [==============================] - 0s 3ms/step - loss: 0.3944 - accuracy: 0.8161 - val_loss: 0.3932 - val_accuracy: 0.8188\n",
            "Epoch 10/50\n",
            "153/153 [==============================] - 0s 3ms/step - loss: 0.3937 - accuracy: 0.8170 - val_loss: 0.3916 - val_accuracy: 0.8166\n",
            "Epoch 11/50\n",
            "153/153 [==============================] - 0s 2ms/step - loss: 0.3933 - accuracy: 0.8192 - val_loss: 0.3905 - val_accuracy: 0.8183\n",
            "Epoch 12/50\n",
            "153/153 [==============================] - 0s 3ms/step - loss: 0.3925 - accuracy: 0.8176 - val_loss: 0.3901 - val_accuracy: 0.8170\n",
            "Epoch 13/50\n",
            "153/153 [==============================] - 0s 3ms/step - loss: 0.3921 - accuracy: 0.8179 - val_loss: 0.3898 - val_accuracy: 0.8173\n",
            "Epoch 14/50\n",
            "153/153 [==============================] - 0s 3ms/step - loss: 0.3918 - accuracy: 0.8179 - val_loss: 0.3901 - val_accuracy: 0.8174\n",
            "Epoch 15/50\n",
            "153/153 [==============================] - 0s 2ms/step - loss: 0.3915 - accuracy: 0.8182 - val_loss: 0.3893 - val_accuracy: 0.8186\n",
            "Epoch 16/50\n",
            "153/153 [==============================] - 0s 2ms/step - loss: 0.3915 - accuracy: 0.8175 - val_loss: 0.3909 - val_accuracy: 0.8220\n",
            "Epoch 17/50\n",
            "153/153 [==============================] - 0s 3ms/step - loss: 0.3906 - accuracy: 0.8177 - val_loss: 0.3903 - val_accuracy: 0.8177\n",
            "Epoch 18/50\n",
            "153/153 [==============================] - 0s 3ms/step - loss: 0.3912 - accuracy: 0.8183 - val_loss: 0.3903 - val_accuracy: 0.8159\n",
            "Epoch 19/50\n",
            "153/153 [==============================] - 0s 3ms/step - loss: 0.3906 - accuracy: 0.8188 - val_loss: 0.3894 - val_accuracy: 0.8186\n",
            "Epoch 20/50\n",
            "153/153 [==============================] - 0s 2ms/step - loss: 0.3901 - accuracy: 0.8182 - val_loss: 0.3934 - val_accuracy: 0.8171\n",
            "Epoch 21/50\n",
            "153/153 [==============================] - 0s 3ms/step - loss: 0.3903 - accuracy: 0.8191 - val_loss: 0.3906 - val_accuracy: 0.8170\n",
            "Epoch 22/50\n",
            "153/153 [==============================] - 0s 3ms/step - loss: 0.3901 - accuracy: 0.8184 - val_loss: 0.3895 - val_accuracy: 0.8194\n",
            "Epoch 23/50\n",
            "153/153 [==============================] - 0s 3ms/step - loss: 0.3900 - accuracy: 0.8185 - val_loss: 0.3894 - val_accuracy: 0.8185\n",
            "Epoch 24/50\n",
            "153/153 [==============================] - 0s 3ms/step - loss: 0.3896 - accuracy: 0.8185 - val_loss: 0.3893 - val_accuracy: 0.8188\n",
            "Epoch 25/50\n",
            "153/153 [==============================] - 0s 3ms/step - loss: 0.3894 - accuracy: 0.8183 - val_loss: 0.3893 - val_accuracy: 0.8182\n",
            "Epoch 26/50\n",
            "153/153 [==============================] - 0s 3ms/step - loss: 0.3892 - accuracy: 0.8194 - val_loss: 0.3892 - val_accuracy: 0.8180\n",
            "Epoch 27/50\n",
            "153/153 [==============================] - 0s 2ms/step - loss: 0.3891 - accuracy: 0.8193 - val_loss: 0.3902 - val_accuracy: 0.8199\n",
            "Epoch 28/50\n",
            "153/153 [==============================] - 0s 3ms/step - loss: 0.3889 - accuracy: 0.8192 - val_loss: 0.3901 - val_accuracy: 0.8173\n",
            "Epoch 29/50\n",
            "153/153 [==============================] - 0s 3ms/step - loss: 0.3887 - accuracy: 0.8182 - val_loss: 0.3888 - val_accuracy: 0.8179\n",
            "Epoch 30/50\n",
            "153/153 [==============================] - 1s 3ms/step - loss: 0.3885 - accuracy: 0.8206 - val_loss: 0.3889 - val_accuracy: 0.8183\n",
            "Epoch 31/50\n",
            "153/153 [==============================] - 1s 3ms/step - loss: 0.3883 - accuracy: 0.8197 - val_loss: 0.3888 - val_accuracy: 0.8194\n",
            "Epoch 32/50\n",
            "153/153 [==============================] - 1s 4ms/step - loss: 0.3880 - accuracy: 0.8194 - val_loss: 0.3891 - val_accuracy: 0.8188\n",
            "Epoch 33/50\n",
            "153/153 [==============================] - 1s 4ms/step - loss: 0.3879 - accuracy: 0.8202 - val_loss: 0.3899 - val_accuracy: 0.8171\n",
            "Epoch 34/50\n",
            "153/153 [==============================] - 1s 4ms/step - loss: 0.3884 - accuracy: 0.8188 - val_loss: 0.3881 - val_accuracy: 0.8189\n",
            "Epoch 35/50\n",
            "153/153 [==============================] - 1s 4ms/step - loss: 0.3878 - accuracy: 0.8196 - val_loss: 0.3882 - val_accuracy: 0.8191\n",
            "Epoch 36/50\n",
            "153/153 [==============================] - 0s 3ms/step - loss: 0.3879 - accuracy: 0.8192 - val_loss: 0.3889 - val_accuracy: 0.8213\n",
            "Epoch 37/50\n",
            "153/153 [==============================] - 0s 3ms/step - loss: 0.3872 - accuracy: 0.8198 - val_loss: 0.3894 - val_accuracy: 0.8194\n",
            "Epoch 38/50\n",
            "153/153 [==============================] - 0s 2ms/step - loss: 0.3868 - accuracy: 0.8205 - val_loss: 0.3884 - val_accuracy: 0.8193\n",
            "Epoch 39/50\n",
            "153/153 [==============================] - 0s 3ms/step - loss: 0.3869 - accuracy: 0.8200 - val_loss: 0.3885 - val_accuracy: 0.8196\n",
            "Epoch 40/50\n",
            "153/153 [==============================] - 0s 3ms/step - loss: 0.3864 - accuracy: 0.8205 - val_loss: 0.3884 - val_accuracy: 0.8188\n",
            "Epoch 41/50\n",
            "153/153 [==============================] - 0s 3ms/step - loss: 0.3865 - accuracy: 0.8212 - val_loss: 0.3881 - val_accuracy: 0.8205\n",
            "Epoch 42/50\n",
            "153/153 [==============================] - 0s 3ms/step - loss: 0.3860 - accuracy: 0.8209 - val_loss: 0.3888 - val_accuracy: 0.8219\n",
            "Epoch 43/50\n",
            "153/153 [==============================] - 0s 3ms/step - loss: 0.3864 - accuracy: 0.8204 - val_loss: 0.3897 - val_accuracy: 0.8206\n",
            "Epoch 44/50\n",
            "153/153 [==============================] - 1s 3ms/step - loss: 0.3864 - accuracy: 0.8215 - val_loss: 0.3892 - val_accuracy: 0.8199\n",
            "Epoch 45/50\n",
            "153/153 [==============================] - 0s 3ms/step - loss: 0.3859 - accuracy: 0.8212 - val_loss: 0.3884 - val_accuracy: 0.8174\n",
            "Epoch 46/50\n",
            "153/153 [==============================] - 0s 3ms/step - loss: 0.3858 - accuracy: 0.8217 - val_loss: 0.3890 - val_accuracy: 0.8208\n",
            "Epoch 47/50\n",
            "153/153 [==============================] - 0s 3ms/step - loss: 0.3855 - accuracy: 0.8205 - val_loss: 0.3877 - val_accuracy: 0.8213\n",
            "Epoch 48/50\n",
            "153/153 [==============================] - 1s 3ms/step - loss: 0.3854 - accuracy: 0.8216 - val_loss: 0.3885 - val_accuracy: 0.8186\n",
            "Epoch 49/50\n",
            "153/153 [==============================] - 0s 3ms/step - loss: 0.3852 - accuracy: 0.8213 - val_loss: 0.3881 - val_accuracy: 0.8193\n",
            "Epoch 50/50\n",
            "153/153 [==============================] - 0s 3ms/step - loss: 0.3855 - accuracy: 0.8221 - val_loss: 0.3883 - val_accuracy: 0.8183\n"
          ]
        }
      ]
    },
    {
      "cell_type": "code",
      "execution_count": null,
      "metadata": {
        "colab": {
          "base_uri": "https://localhost:8080/",
          "height": 368
        },
        "id": "WfHvD--9mMMk",
        "outputId": "fdc9faa7-128c-4205-e4f0-2a13f067723a"
      },
      "outputs": [
        {
          "output_type": "display_data",
          "data": {
            "text/plain": [
              "<Figure size 800x400 with 2 Axes>"
            ],
            "image/png": "[encoded data removed]"
          },
          "metadata": {}
        }
      ],
      "source": [
        "plot_train_valid_history(history)"
      ]
    },
    {
      "cell_type": "code",
      "execution_count": null,
      "metadata": {
        "colab": {
          "base_uri": "https://localhost:8080/"
        },
        "id": "RU0y-fH2mMMk",
        "outputId": "397294d0-e1b2-4455-dc3e-a7b08b8cb26f"
      },
      "outputs": [
        {
          "output_type": "stream",
          "name": "stdout",
          "text": [
            "204/204 [==============================] - 0s 2ms/step - loss: 0.3937 - accuracy: 0.8156\n",
            "Test score:  0.39374813437461853\n",
            "Test accuracy:  0.8155995607376099\n"
          ]
        }
      ],
      "source": [
        "score, acc = model.evaluate(X_test_scaled, y_test)\n",
        "\n",
        "print('Test score: ', score)\n",
        "print('Test accuracy: ', acc)"
      ]
    },
    {
      "cell_type": "code",
      "execution_count": null,
      "metadata": {
        "id": "4niQujYFmMMl"
      },
      "outputs": [],
      "source": []
    }
  ],
  "metadata": {
    "colab": {
      "provenance": [],
      "include_colab_link": true
    },
    "kernelspec": {
      "display_name": "Python 3",
      "language": "python",
      "name": "python3"
    },
    "language_info": {
      "codemirror_mode": {
        "name": "ipython",
        "version": 3
      },
      "file_extension": ".py",
      "mimetype": "text/x-python",
      "name": "python",
      "nbconvert_exporter": "python",
      "pygments_lexer": "ipython3",
      "version": "3.8.8"
    }
  },
  "nbformat": 4,
  "nbformat_minor": 0
}